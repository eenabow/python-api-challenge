{
 "cells": [
  {
   "cell_type": "markdown",
   "metadata": {},
   "source": [
    "# VacationPy\n",
    "----\n",
    "\n",
    "#### Note\n",
    "* Keep an eye on your API usage. Use https://developers.google.com/maps/reporting/gmp-reporting as reference for how to monitor your usage and billing.\n",
    "\n",
    "* Instructions have been included for each segment. You do not have to follow them exactly, but they are included to help you think through the steps."
   ]
  },
  {
   "cell_type": "code",
   "execution_count": 40,
   "metadata": {},
   "outputs": [],
   "source": [
    "# Dependencies and Setup\n",
    "import matplotlib.pyplot as plt\n",
    "import pandas as pd\n",
    "import numpy as np\n",
    "import requests\n",
    "import gmaps\n",
    "import os\n",
    "from pprint import pprint\n",
    "\n",
    "# Import API key\n",
    "from api_keys import g_key\n",
    "\n",
    "#Configure gmaps\n",
    "gmaps.configure(api_key=g_key)\n",
    "\n"
   ]
  },
  {
   "cell_type": "markdown",
   "metadata": {},
   "source": [
    "### Store Part I results into DataFrame\n",
    "* Load the csv exported in Part I to a DataFrame"
   ]
  },
  {
   "cell_type": "code",
   "execution_count": 41,
   "metadata": {},
   "outputs": [
    {
     "output_type": "execute_result",
     "data": {
      "text/plain": [
       "     City Name  Latitude  Longitude  Max Temperature  Humidity  Cloudiness  \\\n",
       "0         Poya    -21.35     165.15            84.61        72         100   \n",
       "1        Pevek     69.70     170.31           -18.15        89          72   \n",
       "2  New Norfolk    -42.78     147.06            69.01        52          93   \n",
       "3        Kapaa     22.08    -159.32            78.80        65          90   \n",
       "4    Mount Isa    -20.73     139.50            91.40        41          75   \n",
       "\n",
       "   Wind Speed Country        Date  \n",
       "0        2.75      NC  1609728176  \n",
       "1        6.80      RU  1609728178  \n",
       "2        3.00      AU  1609728179  \n",
       "3       13.87      US  1609728180  \n",
       "4        6.93      AU  1609728181  "
      ],
      "text/html": "<div>\n<style scoped>\n    .dataframe tbody tr th:only-of-type {\n        vertical-align: middle;\n    }\n\n    .dataframe tbody tr th {\n        vertical-align: top;\n    }\n\n    .dataframe thead th {\n        text-align: right;\n    }\n</style>\n<table border=\"1\" class=\"dataframe\">\n  <thead>\n    <tr style=\"text-align: right;\">\n      <th></th>\n      <th>City Name</th>\n      <th>Latitude</th>\n      <th>Longitude</th>\n      <th>Max Temperature</th>\n      <th>Humidity</th>\n      <th>Cloudiness</th>\n      <th>Wind Speed</th>\n      <th>Country</th>\n      <th>Date</th>\n    </tr>\n  </thead>\n  <tbody>\n    <tr>\n      <th>0</th>\n      <td>Poya</td>\n      <td>-21.35</td>\n      <td>165.15</td>\n      <td>84.61</td>\n      <td>72</td>\n      <td>100</td>\n      <td>2.75</td>\n      <td>NC</td>\n      <td>1609728176</td>\n    </tr>\n    <tr>\n      <th>1</th>\n      <td>Pevek</td>\n      <td>69.70</td>\n      <td>170.31</td>\n      <td>-18.15</td>\n      <td>89</td>\n      <td>72</td>\n      <td>6.80</td>\n      <td>RU</td>\n      <td>1609728178</td>\n    </tr>\n    <tr>\n      <th>2</th>\n      <td>New Norfolk</td>\n      <td>-42.78</td>\n      <td>147.06</td>\n      <td>69.01</td>\n      <td>52</td>\n      <td>93</td>\n      <td>3.00</td>\n      <td>AU</td>\n      <td>1609728179</td>\n    </tr>\n    <tr>\n      <th>3</th>\n      <td>Kapaa</td>\n      <td>22.08</td>\n      <td>-159.32</td>\n      <td>78.80</td>\n      <td>65</td>\n      <td>90</td>\n      <td>13.87</td>\n      <td>US</td>\n      <td>1609728180</td>\n    </tr>\n    <tr>\n      <th>4</th>\n      <td>Mount Isa</td>\n      <td>-20.73</td>\n      <td>139.50</td>\n      <td>91.40</td>\n      <td>41</td>\n      <td>75</td>\n      <td>6.93</td>\n      <td>AU</td>\n      <td>1609728181</td>\n    </tr>\n  </tbody>\n</table>\n</div>"
     },
     "metadata": {},
     "execution_count": 41
    }
   ],
   "source": [
    "# Output File (CSV)\n",
    "input_data_file = \"../output_data/cities.csv\"\n",
    "\n",
    "#Read WeatherPy CSV file\n",
    "Final_city_data= pd.read_csv(input_data_file)\n",
    "\n",
    "Final_city_data.head()"
   ]
  },
  {
   "cell_type": "markdown",
   "metadata": {},
   "source": [
    "### Humidity Heatmap\n",
    "* Configure gmaps.\n",
    "* Use the Lat and Lng as locations and Humidity as the weight.\n",
    "* Add Heatmap layer to map."
   ]
  },
  {
   "cell_type": "code",
   "execution_count": 42,
   "metadata": {},
   "outputs": [],
   "source": [
    "#Use the Lat and Lng as locations and Humidity as the weight.\n",
    "locations = Final_city_data[[\"Latitude\", \"Longitude\"]].astype(float)\n",
    "\n",
    "humidity= Final_city_data[\"Humidity\"].astype(float)\n"
   ]
  },
  {
   "cell_type": "code",
   "execution_count": 43,
   "metadata": {},
   "outputs": [
    {
     "output_type": "display_data",
     "data": {
      "text/plain": "Figure(layout=FigureLayout(height='420px'))",
      "application/vnd.jupyter.widget-view+json": {
       "version_major": 2,
       "version_minor": 0,
       "model_id": "afe1543aca5f481fb46ca1598ddd7122"
      }
     },
     "metadata": {}
    }
   ],
   "source": [
    "fig= gmaps.figure()\n",
    "\n",
    "heat_layer = gmaps.heatmap_layer(locations, weights=humidity, \n",
    "                                 dissipating=False, max_intensity=100,\n",
    "                                 point_radius = 1)\n",
    "fig = gmaps.figure(center=(0, 0), zoom_level=2)\n",
    "fig.add_layer(heat_layer)\n",
    "\n",
    "fig"
   ]
  },
  {
   "cell_type": "markdown",
   "metadata": {},
   "source": [
    "### Create new DataFrame fitting weather criteria\n",
    "* Narrow down the cities to fit weather conditions.\n",
    "* Drop any rows will null values."
   ]
  },
  {
   "cell_type": "code",
   "execution_count": 44,
   "metadata": {},
   "outputs": [
    {
     "output_type": "execute_result",
     "data": {
      "text/plain": [
       "       City Name  Latitude  Longitude  Max Temperature  Humidity  Cloudiness  \\\n",
       "9        Kahului     20.89    -156.47            80.60        54           1   \n",
       "42   San Lorenzo    -25.33     -57.53            82.40        58           0   \n",
       "89          Hilo     19.73    -155.09            80.60        61           1   \n",
       "230  Broken Hill    -31.95     141.43            78.80        39          29   \n",
       "356         Trat     12.50     102.50            84.99        65           0   \n",
       "\n",
       "     Wind Speed Country        Date  \n",
       "9         24.16      US  1609728186  \n",
       "42         5.82      PY  1609728165  \n",
       "89         9.17      US  1609728209  \n",
       "230       10.29      AU  1609728445  \n",
       "356       11.41      TH  1609728593  "
      ],
      "text/html": "<div>\n<style scoped>\n    .dataframe tbody tr th:only-of-type {\n        vertical-align: middle;\n    }\n\n    .dataframe tbody tr th {\n        vertical-align: top;\n    }\n\n    .dataframe thead th {\n        text-align: right;\n    }\n</style>\n<table border=\"1\" class=\"dataframe\">\n  <thead>\n    <tr style=\"text-align: right;\">\n      <th></th>\n      <th>City Name</th>\n      <th>Latitude</th>\n      <th>Longitude</th>\n      <th>Max Temperature</th>\n      <th>Humidity</th>\n      <th>Cloudiness</th>\n      <th>Wind Speed</th>\n      <th>Country</th>\n      <th>Date</th>\n    </tr>\n  </thead>\n  <tbody>\n    <tr>\n      <th>9</th>\n      <td>Kahului</td>\n      <td>20.89</td>\n      <td>-156.47</td>\n      <td>80.60</td>\n      <td>54</td>\n      <td>1</td>\n      <td>24.16</td>\n      <td>US</td>\n      <td>1609728186</td>\n    </tr>\n    <tr>\n      <th>42</th>\n      <td>San Lorenzo</td>\n      <td>-25.33</td>\n      <td>-57.53</td>\n      <td>82.40</td>\n      <td>58</td>\n      <td>0</td>\n      <td>5.82</td>\n      <td>PY</td>\n      <td>1609728165</td>\n    </tr>\n    <tr>\n      <th>89</th>\n      <td>Hilo</td>\n      <td>19.73</td>\n      <td>-155.09</td>\n      <td>80.60</td>\n      <td>61</td>\n      <td>1</td>\n      <td>9.17</td>\n      <td>US</td>\n      <td>1609728209</td>\n    </tr>\n    <tr>\n      <th>230</th>\n      <td>Broken Hill</td>\n      <td>-31.95</td>\n      <td>141.43</td>\n      <td>78.80</td>\n      <td>39</td>\n      <td>29</td>\n      <td>10.29</td>\n      <td>AU</td>\n      <td>1609728445</td>\n    </tr>\n    <tr>\n      <th>356</th>\n      <td>Trat</td>\n      <td>12.50</td>\n      <td>102.50</td>\n      <td>84.99</td>\n      <td>65</td>\n      <td>0</td>\n      <td>11.41</td>\n      <td>TH</td>\n      <td>1609728593</td>\n    </tr>\n  </tbody>\n</table>\n</div>"
     },
     "metadata": {},
     "execution_count": 44
    }
   ],
   "source": [
    "#Narrow down the cities to fit weather conditions.\n",
    "Perfect_humidity= Final_city_data.loc[Final_city_data[\"Humidity\"] <= 68]\n",
    "\n",
    "Perfect_temp= Perfect_humidity.loc[Perfect_humidity[\"Max Temperature\"] > 75 ]\n",
    "\n",
    "#Store into variable named hotel_df.\n",
    "hotel_df= Perfect_temp.loc[Perfect_temp[\"Cloudiness\"] <= 30 ]\n",
    "\n",
    "hotel_df.head()"
   ]
  },
  {
   "cell_type": "markdown",
   "metadata": {},
   "source": [
    "### Hotel Map\n",
    "* Store into variable named `hotel_df`.\n",
    "* Add a \"Hotel Name\" column to the DataFrame.\n",
    "* Set parameters to search for hotels with 5000 meters.\n",
    "* Hit the Google Places API for each city's coordinates.\n",
    "* Store the first Hotel result into the DataFrame.\n",
    "* Plot markers on top of the heatmap."
   ]
  },
  {
   "cell_type": "code",
   "execution_count": 45,
   "metadata": {},
   "outputs": [
    {
     "output_type": "execute_result",
     "data": {
      "text/plain": [
       "       City Name  Latitude  Longitude  Max Temperature  Humidity  Cloudiness  \\\n",
       "9        Kahului     20.89    -156.47            80.60        54           1   \n",
       "42   San Lorenzo    -25.33     -57.53            82.40        58           0   \n",
       "89          Hilo     19.73    -155.09            80.60        61           1   \n",
       "230  Broken Hill    -31.95     141.43            78.80        39          29   \n",
       "356         Trat     12.50     102.50            84.99        65           0   \n",
       "\n",
       "     Wind Speed Country        Date Hotel Name  \n",
       "9         24.16      US  1609728186             \n",
       "42         5.82      PY  1609728165             \n",
       "89         9.17      US  1609728209             \n",
       "230       10.29      AU  1609728445             \n",
       "356       11.41      TH  1609728593             "
      ],
      "text/html": "<div>\n<style scoped>\n    .dataframe tbody tr th:only-of-type {\n        vertical-align: middle;\n    }\n\n    .dataframe tbody tr th {\n        vertical-align: top;\n    }\n\n    .dataframe thead th {\n        text-align: right;\n    }\n</style>\n<table border=\"1\" class=\"dataframe\">\n  <thead>\n    <tr style=\"text-align: right;\">\n      <th></th>\n      <th>City Name</th>\n      <th>Latitude</th>\n      <th>Longitude</th>\n      <th>Max Temperature</th>\n      <th>Humidity</th>\n      <th>Cloudiness</th>\n      <th>Wind Speed</th>\n      <th>Country</th>\n      <th>Date</th>\n      <th>Hotel Name</th>\n    </tr>\n  </thead>\n  <tbody>\n    <tr>\n      <th>9</th>\n      <td>Kahului</td>\n      <td>20.89</td>\n      <td>-156.47</td>\n      <td>80.60</td>\n      <td>54</td>\n      <td>1</td>\n      <td>24.16</td>\n      <td>US</td>\n      <td>1609728186</td>\n      <td></td>\n    </tr>\n    <tr>\n      <th>42</th>\n      <td>San Lorenzo</td>\n      <td>-25.33</td>\n      <td>-57.53</td>\n      <td>82.40</td>\n      <td>58</td>\n      <td>0</td>\n      <td>5.82</td>\n      <td>PY</td>\n      <td>1609728165</td>\n      <td></td>\n    </tr>\n    <tr>\n      <th>89</th>\n      <td>Hilo</td>\n      <td>19.73</td>\n      <td>-155.09</td>\n      <td>80.60</td>\n      <td>61</td>\n      <td>1</td>\n      <td>9.17</td>\n      <td>US</td>\n      <td>1609728209</td>\n      <td></td>\n    </tr>\n    <tr>\n      <th>230</th>\n      <td>Broken Hill</td>\n      <td>-31.95</td>\n      <td>141.43</td>\n      <td>78.80</td>\n      <td>39</td>\n      <td>29</td>\n      <td>10.29</td>\n      <td>AU</td>\n      <td>1609728445</td>\n      <td></td>\n    </tr>\n    <tr>\n      <th>356</th>\n      <td>Trat</td>\n      <td>12.50</td>\n      <td>102.50</td>\n      <td>84.99</td>\n      <td>65</td>\n      <td>0</td>\n      <td>11.41</td>\n      <td>TH</td>\n      <td>1609728593</td>\n      <td></td>\n    </tr>\n  </tbody>\n</table>\n</div>"
     },
     "metadata": {},
     "execution_count": 45
    }
   ],
   "source": [
    "#Add a \"Hotel Name\" column to the DataFrame.\n",
    "hotel_df[\"Hotel Name\"] = \"\"\n",
    "\n",
    "hotel_df.head()"
   ]
  },
  {
   "cell_type": "code",
   "execution_count": 46,
   "metadata": {},
   "outputs": [],
   "source": [
    "# Hit the Google Places API for each city's coordinates.\n",
    "target_search = \"Hotel\"\n",
    "target_radius = 5000\n",
    "\n",
    "\n",
    "#Set parameters to search for specifics\n",
    "params = { \n",
    "    \"keyword\": target_search,\n",
    "    \"radius\": target_radius, \n",
    "    \"key\":g_key, \n",
    "}"
   ]
  },
  {
   "cell_type": "code",
   "execution_count": 47,
   "metadata": {},
   "outputs": [
    {
     "output_type": "stream",
     "name": "stdout",
     "text": [
      "Beginning Data Retrieval\n",
      "-------------------------\n",
      "Missing result. Skipping... .\n",
      "Missing result. Skipping... .\n",
      "Missing result. Skipping... .\n"
     ]
    }
   ],
   "source": [
    "print(\"Beginning Data Retrieval\")\n",
    "print(\"-------------------------\")\n",
    "\n",
    "# Use iterrows to iterate through dataframe\n",
    "for index, row in hotel_df.iterrows():\n",
    "\n",
    "    #Store latitude and longitude from hotel_df\n",
    "    lat = row['Latitude']\n",
    "    lng = row['Longitude']\n",
    "\n",
    "\n",
    "    #Update location each iteration while leaving original params in place\n",
    "    params[\"location\"] = f\"{lat},{lng}\"\n",
    "\n",
    "\n",
    "    #Set the base_url\n",
    "    base_url = \"https://maps.googleapis.com/maps/api/place/nearbysearch/json\"\n",
    "\n",
    "    # make request and print url\n",
    "    hotel_names = requests.get(base_url, params=params)\n",
    "    hotel_names = hotel_names.json()\n",
    "\n",
    "    # Since some data may be missing we incorporate a try-except to skip any that are missing a data point.\n",
    "    try:\n",
    "        hotel_df.loc[index, \"Hotel Name\"] = hotel_names[\"results\"][0][\"name\"]\n",
    "\n",
    "    except (KeyError, IndexError, TypeError):\n",
    "        print(\"Missing result. Skipping... .\")"
   ]
  },
  {
   "cell_type": "code",
   "execution_count": 48,
   "metadata": {
    "tags": [
     "outputPrepend"
    ]
   },
   "outputs": [
    {
     "output_type": "stream",
     "name": "stdout",
     "text": [
      "a'},\n             {'business_status': 'OPERATIONAL',\n              'geometry': {'location': {'lat': 4.864049, 'lng': 31.60039},\n                           'viewport': {'northeast': {'lat': 4.865518079892722,\n                                                      'lng': 31.60174142989272},\n                                        'southwest': {'lat': 4.862818420107279,\n                                                      'lng': 31.59904177010727}}},\n              'icon': 'https://maps.gstatic.com/mapfiles/place_api/icons/v1/png_71/lodging-71.png',\n              'name': 'Airport Plaza Hotel',\n              'opening_hours': {'open_now': True},\n              'photos': [{'height': 2448,\n                          'html_attributions': ['<a '\n                                                'href=\"https://maps.google.com/maps/contrib/115545295131029702001\">Airport '\n                                                'Plaza Hotel</a>'],\n                          'photo_reference': 'ATtYBwIgFzhCV5WbUg5kN_dSaxg_eAI-jPRTzUfDa8LEbfI1g6WOKjUv_KY92ut3WCSM7e-Jwqa1hgfLGnM5Yh7Lm0jz90daoIvFwGXsiCW63DslBbIpbp3fTZBrnQLy46QMhe7w8Ie6uAL4BqNdcEdvKHE_KDEsbws8QGCGQLVkJbegZPVi',\n                          'width': 3264}],\n              'place_id': 'ChIJq1gxZUGAEhcRwGOGqUznAnQ',\n              'plus_code': {'compound_code': 'VJ72+J5 Juba, South Sudan',\n                            'global_code': '6GPHVJ72+J5'},\n              'rating': 3.6,\n              'reference': 'ChIJq1gxZUGAEhcRwGOGqUznAnQ',\n              'scope': 'GOOGLE',\n              'types': ['lodging', 'point_of_interest', 'establishment'],\n              'user_ratings_total': 28,\n              'vicinity': 'Yellow School Bus Rd, Juba'},\n             {'business_status': 'OPERATIONAL',\n              'geometry': {'location': {'lat': 4.8557736, 'lng': 31.583199},\n                           'viewport': {'northeast': {'lat': 4.857248179892721,\n                                                      'lng': 31.58454892989272},\n                                        'southwest': {'lat': 4.854548520107278,\n                                                      'lng': 31.58184927010727}}},\n              'icon': 'https://maps.gstatic.com/mapfiles/place_api/icons/v1/png_71/lodging-71.png',\n              'name': 'Regency Hotel',\n              'photos': [{'height': 2620,\n                          'html_attributions': ['<a '\n                                                'href=\"https://maps.google.com/maps/contrib/104506871651727879867\">Rajish '\n                                                'Raja</a>'],\n                          'photo_reference': 'ATtYBwKodYcsTBKylQGIfy8yrrwfmvver9EyDydib3lkPgoIxcpPQ9H-D9sQChQbqvaGGJNxwQF2mDazvJPNvQ9A-fIqOk27vcC4GMavrZITyaRiYKTXZoM6xup1AoQ7Fih5BhWUXfA32VUVrsnyvxfPjSzUbhvyvD8sN5Id9XRq-TS25FNx',\n                          'width': 4656}],\n              'place_id': 'ChIJZYhLIlaAEhcRa6lVZzdn8ks',\n              'plus_code': {'compound_code': 'VH4M+87 Juba, South Sudan',\n                            'global_code': '6GPHVH4M+87'},\n              'rating': 3.9,\n              'reference': 'ChIJZYhLIlaAEhcRa6lVZzdn8ks',\n              'scope': 'GOOGLE',\n              'types': ['lodging', 'point_of_interest', 'establishment'],\n              'user_ratings_total': 113,\n              'vicinity': 'Doctor John Garang International School, Kololo '\n                          'Area, Off Airport Road, Close to, Juba'},\n             {'business_status': 'OPERATIONAL',\n              'geometry': {'location': {'lat': 4.8599225, 'lng': 31.6008244},\n                           'viewport': {'northeast': {'lat': 4.861275579892721,\n                                                      'lng': 31.60209262989272},\n                                        'southwest': {'lat': 4.858575920107278,\n                                                      'lng': 31.59939297010728}}},\n              'icon': 'https://maps.gstatic.com/mapfiles/place_api/icons/v1/png_71/lodging-71.png',\n              'name': 'Tulip Inn Juba',\n              'photos': [{'height': 3024,\n                          'html_attributions': ['<a '\n                                                'href=\"https://maps.google.com/maps/contrib/108304825594990948924\">KingAugust '\n                                                'MainBlock</a>'],\n                          'photo_reference': 'ATtYBwI9jJCQahbPIrZZ3n2PGGAakT8yxvRGLuQWdk-eYucJVWuzEbF0lBf26b7hFED3LGBms1DzUiZInNGtyYdzh8vyM-DCV_u5E80cxgDWeIHBk4TyfYtn8AJtHypon43VgArW6Jd-P0odzb3uuOZbxEIoh4ZK6jz-lsGWynDdiR5uuIqR',\n                          'width': 4032}],\n              'place_id': 'ChIJFcFIlUaAEhcRl-Z1Pux9PKA',\n              'plus_code': {'compound_code': 'VJ52+X8 Juba, South Sudan',\n                            'global_code': '6GPHVJ52+X8'},\n              'rating': 4,\n              'reference': 'ChIJFcFIlUaAEhcRl-Z1Pux9PKA',\n              'scope': 'GOOGLE',\n              'types': ['lodging', 'point_of_interest', 'establishment'],\n              'user_ratings_total': 67,\n              'vicinity': 'Hay Matar, Block xvi, plot 29, Juba'},\n             {'business_status': 'OPERATIONAL',\n              'geometry': {'location': {'lat': 4.845485399999999,\n                                        'lng': 31.6151024},\n                           'viewport': {'northeast': {'lat': 4.846801429892722,\n                                                      'lng': 31.61666202989272},\n                                        'southwest': {'lat': 4.844101770107279,\n                                                      'lng': 31.61396237010728}}},\n              'icon': 'https://maps.gstatic.com/mapfiles/place_api/icons/v1/png_71/lodging-71.png',\n              'name': 'Juba Landmark Hotel',\n              'photos': [{'height': 1152,\n                          'html_attributions': ['<a '\n                                                'href=\"https://maps.google.com/maps/contrib/101619174761684496756\">businessthisday '\n                                                'com</a>'],\n                          'photo_reference': 'ATtYBwJw4hkl2ocb-NpE0M2y5UGnWVIzBIoI81n9BcVaWjVhCusRM-xKHql5rFGXn-vlwoq9pq9stqLL_foy0mK2laiHsTp68yeLoFNggVHeKFSUeCCEkL2p05oiqQnPhXzmyMfQKQJqjU23KlNwIFflEZorVoaaIDL6Nam8zIODnx8mIcGf',\n                          'width': 2048}],\n              'place_id': 'ChIJZeU1la6BEhcRqxbzI4lrYco',\n              'plus_code': {'compound_code': 'RJW8+52 Juba, South Sudan',\n                            'global_code': '6GPHRJW8+52'},\n              'rating': 3.9,\n              'reference': 'ChIJZeU1la6BEhcRqxbzI4lrYco',\n              'scope': 'GOOGLE',\n              'types': ['lodging', 'point_of_interest', 'establishment'],\n              'user_ratings_total': 18,\n              'vicinity': 'Off Mboro St Juba'},\n             {'business_status': 'OPERATIONAL',\n              'geometry': {'location': {'lat': 4.8440471, 'lng': 31.6149807},\n                           'viewport': {'northeast': {'lat': 4.845374229892721,\n                                                      'lng': 31.61649717989272},\n                                        'southwest': {'lat': 4.842674570107278,\n                                                      'lng': 31.61379752010728}}},\n              'icon': 'https://maps.gstatic.com/mapfiles/place_api/icons/v1/png_71/lodging-71.png',\n              'name': 'Dembesh Hotel',\n              'photos': [{'height': 2592,\n                          'html_attributions': ['<a '\n                                                'href=\"https://maps.google.com/maps/contrib/113901510689482708868\">Waithaka '\n                                                'Mbogo</a>'],\n                          'photo_reference': 'ATtYBwKehQ0nKaK4dCLmwY1HzcnmWeHBlCyH-CfyNiyN3uaThwXJGwFDy9a9MMvxn4wntAVQ-MRVGamf8HoKRYUVtzKSezci8eeStjk5_nE7KiDLzJ8qbK3eh8roE-Dcs2l9dnWM4aEVlK-L8m2OCFsAi6Gr-_F7XFDYPKaiZ2vkffPEeaoy',\n                          'width': 4608}],\n              'place_id': 'ChIJh-lbws2BEhcRvSFaEOyKvV8',\n              'plus_code': {'compound_code': 'RJV7+JX Juba, South Sudan',\n                            'global_code': '6GPHRJV7+JX'},\n              'rating': 4.1,\n              'reference': 'ChIJh-lbws2BEhcRvSFaEOyKvV8',\n              'scope': 'GOOGLE',\n              'types': ['lodging', 'point_of_interest', 'establishment'],\n              'user_ratings_total': 15,\n              'vicinity': 'Hai Mission, Juba'},\n             {'business_status': 'OPERATIONAL',\n              'geometry': {'location': {'lat': 4.8355888, 'lng': 31.6132709},\n                           'viewport': {'northeast': {'lat': 4.836914179892722,\n                                                      'lng': 31.61488752989272},\n                                        'southwest': {'lat': 4.834214520107278,\n                                                      'lng': 31.61218787010728}}},\n              'icon': 'https://maps.gstatic.com/mapfiles/place_api/icons/v1/png_71/lodging-71.png',\n              'name': 'Royal Palace Hotel',\n              'opening_hours': {'open_now': True},\n              'photos': [{'height': 3120,\n                          'html_attributions': ['<a '\n                                                'href=\"https://maps.google.com/maps/contrib/106321984817768218837\">Taeyoung '\n                                                'Kim</a>'],\n                          'photo_reference': 'ATtYBwIfkmhi-aLKQKVgWwgUTWP7VXnteqFCTg7Z9IIxeB_OiPMzXxIm_CL-huJCjX0KjWPcf-ZA3eITxt7GdAFWUdOkr75SgHmbMx7EbzKXabFxHeyMASFJwTPQ50hynZ12MivodUytZMQ1Aubklz4B7dzKmQrhnVexrVSwTuytNZoLzcos',\n                          'width': 4160}],\n              'place_id': 'ChIJ09qwaMSBEhcRcSheRDlEqHA',\n              'plus_code': {'compound_code': 'RJP7+68 Juba, South Sudan',\n                            'global_code': '6GPHRJP7+68'},\n              'rating': 4.1,\n              'reference': 'ChIJ09qwaMSBEhcRcSheRDlEqHA',\n              'scope': 'GOOGLE',\n              'types': ['lodging', 'point_of_interest', 'establishment'],\n              'user_ratings_total': 55,\n              'vicinity': 'Juba'},\n             {'business_status': 'OPERATIONAL',\n              'geometry': {'location': {'lat': 4.858120899999999,\n                                        'lng': 31.6077157},\n                           'viewport': {'northeast': {'lat': 4.859515729892721,\n                                                      'lng': 31.60906457989272},\n                                        'southwest': {'lat': 4.856816070107278,\n                                                      'lng': 31.60636492010728}}},\n              'icon': 'https://maps.gstatic.com/mapfiles/place_api/icons/v1/png_71/lodging-71.png',\n              'name': 'Juba Transit Hotel',\n              'photos': [{'height': 1536,\n                          'html_attributions': ['<a '\n                                                'href=\"https://maps.google.com/maps/contrib/104921928335144622534\">Teklish '\n                                                'Fiseha</a>'],\n                          'photo_reference': 'ATtYBwI-cxUFlu2u031Q5TSWVZL1uKT-fkkCrkbASb5xJprzxDw_S-mqJeE0VC1_2pDy1blzoqsMQMTJ_sQAiT3XOum9K2rFnVyAd9h1Owkuq8wJx2k8UcLoE6x8i6-sBE9szupff8_k3kmzy29ZHXjlkbvZMs5du2lXwAZFq0B64AWTpvk_',\n                          'width': 2048}],\n              'place_id': 'ChIJl-GYPjiAEhcR32qhZ54C5yw',\n              'plus_code': {'compound_code': 'VJ55+63 Juba, South Sudan',\n                            'global_code': '6GPHVJ55+63'},\n              'rating': 3.7,\n              'reference': 'ChIJl-GYPjiAEhcR32qhZ54C5yw',\n              'scope': 'GOOGLE',\n              'types': ['lodging', 'point_of_interest', 'establishment'],\n              'user_ratings_total': 46,\n              'vicinity': 'Darren Lockyer Road, Juba'},\n             {'business_status': 'OPERATIONAL',\n              'geometry': {'location': {'lat': 4.8657836, 'lng': 31.5979678},\n                           'viewport': {'northeast': {'lat': 4.867134179892721,\n                                                      'lng': 31.59935442989272},\n                                        'southwest': {'lat': 4.864434520107277,\n                                                      'lng': 31.59665477010727}}},\n              'icon': 'https://maps.gstatic.com/mapfiles/place_api/icons/v1/png_71/lodging-71.png',\n              'name': 'Riviera Hotel',\n              'photos': [{'height': 3072,\n                          'html_attributions': ['<a '\n                                                'href=\"https://maps.google.com/maps/contrib/115584530486612955323\">A '\n                                                'Google User</a>'],\n                          'photo_reference': 'ATtYBwKAZGXq9H8T3Fk-ZcF4ehCHAFP9atPKXWtRrf-HvtHmnPjn2MQzUZM6Ok2v3yyfvpGCdKeVbugLg6BHqOHt6JA70__WRq45AZT5u40kmtn_CGZFOWB6KNDckW1hVmvy_gjedhsXGSDZS6hai2FFZc2ReAHgpOiugZYR97NRnrUiJcvU',\n                          'width': 4096}],\n              'place_id': 'ChIJnQgZQkKAEhcRgCMZ1LxFQdE',\n              'plus_code': {'compound_code': 'VH8X+85 Juba, South Sudan',\n                            'global_code': '6GPHVH8X+85'},\n              'rating': 3.8,\n              'reference': 'ChIJnQgZQkKAEhcRgCMZ1LxFQdE',\n              'scope': 'GOOGLE',\n              'types': ['lodging', 'point_of_interest', 'establishment'],\n              'user_ratings_total': 33,\n              'vicinity': 'Juba'},\n             {'business_status': 'OPERATIONAL',\n              'geometry': {'location': {'lat': 4.8426524, 'lng': 31.6087587},\n                           'viewport': {'northeast': {'lat': 4.844003129892723,\n                                                      'lng': 31.61016127989273},\n                                        'southwest': {'lat': 4.841303470107278,\n                                                      'lng': 31.60746162010728}}},\n              'icon': 'https://maps.gstatic.com/mapfiles/place_api/icons/v1/png_71/lodging-71.png',\n              'name': 'Concord Hotel',\n              'opening_hours': {'open_now': True},\n              'photos': [{'height': 3024,\n                          'html_attributions': ['<a '\n                                                'href=\"https://maps.google.com/maps/contrib/111997452960843825943\">A '\n                                                'Google User</a>'],\n                          'photo_reference': 'ATtYBwKKGnXJ2o69AkwbR-eU9hRduXNokSYJK52yiM9OExu7g67hbk8gQX9PVtEARPrqmmLqpxVUCg1EAT0nPPJD28S1OWO0RAELedF8F4cd_8R2vNUoWU23gsAeWmm_VWhJC5kbrGZtTH0m9uS6fLJR91E2km7jiQOaRuWEQtoc1Av41qsQ',\n                          'width': 4032}],\n              'place_id': 'ChIJPVbPtMmBEhcR2MpWR0nCqSg',\n              'plus_code': {'compound_code': 'RJV5+3G Juba, South Sudan',\n                            'global_code': '6GPHRJV5+3G'},\n              'rating': 4.1,\n              'reference': 'ChIJPVbPtMmBEhcR2MpWR0nCqSg',\n              'scope': 'GOOGLE',\n              'types': ['lodging', 'point_of_interest', 'establishment'],\n              'user_ratings_total': 37,\n              'vicinity': 'Juba'},\n             {'business_status': 'OPERATIONAL',\n              'geometry': {'location': {'lat': 4.8558568, 'lng': 31.5948352},\n                           'viewport': {'northeast': {'lat': 4.857144329892722,\n                                                      'lng': 31.59624742989272},\n                                        'southwest': {'lat': 4.854444670107278,\n                                                      'lng': 31.59354777010728}}},\n              'icon': 'https://maps.gstatic.com/mapfiles/place_api/icons/v1/png_71/restaurant-71.png',\n              'name': 'Paradiso Hotel',\n              'photos': [{'height': 1228,\n                          'html_attributions': ['<a '\n                                                'href=\"https://maps.google.com/maps/contrib/117014764369598388488\">H '\n                                                'P Muditha Sampath '\n                                                'Weerasinghe</a>'],\n                          'photo_reference': 'ATtYBwJKtbrtroiHJ7h1cWmtUaa3W41BgQ3DD8k27bb3vso7VGgjm7XFSXpJ0KJfPVBb-LsbuxcWUQ1tkygvZyu7nKZkqc3BR6WtPTWjrGgCPa_VVV-bpQC_FKCX2YUhLHgP0v7Wjf1gzf8-tkqHJch46Ca0Pk_WCmQX_CYYUGs2BXxxm6VN',\n                          'width': 2048}],\n              'place_id': 'ChIJxUWwMk6AEhcR5c7ufEL2V1g',\n              'plus_code': {'compound_code': 'VH4V+8W Juba, South Sudan',\n                            'global_code': '6GPHVH4V+8W'},\n              'rating': 4.3,\n              'reference': 'ChIJxUWwMk6AEhcR5c7ufEL2V1g',\n              'scope': 'GOOGLE',\n              'types': ['restaurant',\n                        'food',\n                        'point_of_interest',\n                        'establishment'],\n              'user_ratings_total': 6,\n              'vicinity': 'Juba'},\n             {'business_status': 'OPERATIONAL',\n              'geometry': {'location': {'lat': 4.8569612, 'lng': 31.5868467},\n                           'viewport': {'northeast': {'lat': 4.858311129892722,\n                                                      'lng': 31.58813762989272},\n                                        'southwest': {'lat': 4.855611470107278,\n                                                      'lng': 31.58543797010728}}},\n              'icon': 'https://maps.gstatic.com/mapfiles/place_api/icons/v1/png_71/lodging-71.png',\n              'name': 'Rainbow hotel',\n              'opening_hours': {'open_now': True},\n              'photos': [{'height': 2160,\n                          'html_attributions': ['<a '\n                                                'href=\"https://maps.google.com/maps/contrib/101957865415968863829\">Thomas '\n                                                'Link</a>'],\n                          'photo_reference': 'ATtYBwIC6U3JGQyL0g45D_PQ5GihO_t9xP1A7XRxhIITN-AtHj0vzq8zO1y8SqfQfxIHMxq0dSbPF3KDdsPwoCreGgP7FPIwaiytaH2MeCuyzp9uznYOT4CEhbUTSCrrgKVBlahjPCBVxTm6MtBN4ZtlDXcT0iqwsB-SfljG9UMb7O7gwXnf',\n                          'width': 3840}],\n              'place_id': 'ChIJIea4F1eAEhcR2MoxSA-1wEM',\n              'plus_code': {'compound_code': 'VH4P+QP Juba, South Sudan',\n                            'global_code': '6GPHVH4P+QP'},\n              'rating': 3.6,\n              'reference': 'ChIJIea4F1eAEhcR2MoxSA-1wEM',\n              'scope': 'GOOGLE',\n              'types': ['lodging', 'point_of_interest', 'establishment'],\n              'user_ratings_total': 84,\n              'vicinity': 'american embessy, Juba'},\n             {'business_status': 'OPERATIONAL',\n              'geometry': {'location': {'lat': 4.8553792, 'lng': 31.6036152},\n                           'viewport': {'northeast': {'lat': 4.856657479892722,\n                                                      'lng': 31.60495752989273},\n                                        'southwest': {'lat': 4.853957820107278,\n                                                      'lng': 31.60225787010729}}},\n              'icon': 'https://maps.gstatic.com/mapfiles/place_api/icons/v1/png_71/lodging-71.png',\n              'name': 'Amarat Classic Hotel( Comboni House)',\n              'photos': [{'height': 3024,\n                          'html_attributions': ['<a '\n                                                'href=\"https://maps.google.com/maps/contrib/105411699869867957001\">A '\n                                                'Google User</a>'],\n                          'photo_reference': 'ATtYBwJ3TYI2eEnCL3ImnudKYxmuiNfL06w035shL-4LulNt-vkFgmueUn5xQXXoknekZW5VAXvI58mvxmH3GjjZpb6VP5UQACtrabjnAUJrm_GWso4ieEH0FeuuK5W4i5l0ObTlIXjeTCCELsXJzmWslvEgsrW3VX8BGvKL4UViC2w9Qf2L',\n                          'width': 4032}],\n              'place_id': 'ChIJU6E4s0mAEhcRRsENT-F9kQ8',\n              'plus_code': {'compound_code': 'VJ43+5C Juba, South Sudan',\n                            'global_code': '6GPHVJ43+5C'},\n              'rating': 3.9,\n              'reference': 'ChIJU6E4s0mAEhcRRsENT-F9kQ8',\n              'scope': 'GOOGLE',\n              'types': ['lodging', 'point_of_interest', 'establishment'],\n              'user_ratings_total': 28,\n              'vicinity': 'Juba'}],\n 'status': 'OK'}\n"
     ]
    }
   ],
   "source": [
    "pprint(hotel_names)"
   ]
  },
  {
   "cell_type": "code",
   "execution_count": 49,
   "metadata": {},
   "outputs": [
    {
     "output_type": "execute_result",
     "data": {
      "text/plain": [
       "     City Name  Latitude  Longitude  Max Temperature  Humidity  Cloudiness  \\\n",
       "0      Kahului     20.89    -156.47            80.60        54           1   \n",
       "1  San Lorenzo    -25.33     -57.53            82.40        58           0   \n",
       "2         Hilo     19.73    -155.09            80.60        61           1   \n",
       "3  Broken Hill    -31.95     141.43            78.80        39          29   \n",
       "4         Trat     12.50     102.50            84.99        65           0   \n",
       "\n",
       "   Wind Speed Country        Date            Hotel Name  \n",
       "0       24.16      US  1609728186      Maui Beach Hotel  \n",
       "1        5.82      PY  1609728165        Factoria Hotel  \n",
       "2        9.17      US  1609728209   Hilo Hawaiian Hotel  \n",
       "3       10.29      AU  1609728445  Royal Exchange Hotel  \n",
       "4       11.41      TH  1609728593                   NaN  "
      ],
      "text/html": "<div>\n<style scoped>\n    .dataframe tbody tr th:only-of-type {\n        vertical-align: middle;\n    }\n\n    .dataframe tbody tr th {\n        vertical-align: top;\n    }\n\n    .dataframe thead th {\n        text-align: right;\n    }\n</style>\n<table border=\"1\" class=\"dataframe\">\n  <thead>\n    <tr style=\"text-align: right;\">\n      <th></th>\n      <th>City Name</th>\n      <th>Latitude</th>\n      <th>Longitude</th>\n      <th>Max Temperature</th>\n      <th>Humidity</th>\n      <th>Cloudiness</th>\n      <th>Wind Speed</th>\n      <th>Country</th>\n      <th>Date</th>\n      <th>Hotel Name</th>\n    </tr>\n  </thead>\n  <tbody>\n    <tr>\n      <th>0</th>\n      <td>Kahului</td>\n      <td>20.89</td>\n      <td>-156.47</td>\n      <td>80.60</td>\n      <td>54</td>\n      <td>1</td>\n      <td>24.16</td>\n      <td>US</td>\n      <td>1609728186</td>\n      <td>Maui Beach Hotel</td>\n    </tr>\n    <tr>\n      <th>1</th>\n      <td>San Lorenzo</td>\n      <td>-25.33</td>\n      <td>-57.53</td>\n      <td>82.40</td>\n      <td>58</td>\n      <td>0</td>\n      <td>5.82</td>\n      <td>PY</td>\n      <td>1609728165</td>\n      <td>Factoria Hotel</td>\n    </tr>\n    <tr>\n      <th>2</th>\n      <td>Hilo</td>\n      <td>19.73</td>\n      <td>-155.09</td>\n      <td>80.60</td>\n      <td>61</td>\n      <td>1</td>\n      <td>9.17</td>\n      <td>US</td>\n      <td>1609728209</td>\n      <td>Hilo Hawaiian Hotel</td>\n    </tr>\n    <tr>\n      <th>3</th>\n      <td>Broken Hill</td>\n      <td>-31.95</td>\n      <td>141.43</td>\n      <td>78.80</td>\n      <td>39</td>\n      <td>29</td>\n      <td>10.29</td>\n      <td>AU</td>\n      <td>1609728445</td>\n      <td>Royal Exchange Hotel</td>\n    </tr>\n    <tr>\n      <th>4</th>\n      <td>Trat</td>\n      <td>12.50</td>\n      <td>102.50</td>\n      <td>84.99</td>\n      <td>65</td>\n      <td>0</td>\n      <td>11.41</td>\n      <td>TH</td>\n      <td>1609728593</td>\n      <td>NaN</td>\n    </tr>\n  </tbody>\n</table>\n</div>"
     },
     "metadata": {},
     "execution_count": 49
    }
   ],
   "source": [
    "# Save Data to csv file\n",
    "hotel_df.to_csv(\"../output_data/Perfect_weather_hotels.csv\", index= False, header= True)\n",
    "\n",
    "# Read CSV \n",
    "Perfect_weather_hotels= pd.read_csv(\"../output_data/Perfect_weather_hotels.csv\")\n",
    "\n",
    "Perfect_weather_hotels.head()"
   ]
  },
  {
   "cell_type": "code",
   "execution_count": 50,
   "metadata": {},
   "outputs": [
    {
     "output_type": "execute_result",
     "data": {
      "text/plain": [
       "          City  Latitude  Longitude  Max Temperature  Humidity  Cloudiness  \\\n",
       "0      Kahului     20.89    -156.47            80.60        54           1   \n",
       "1  San Lorenzo    -25.33     -57.53            82.40        58           0   \n",
       "2         Hilo     19.73    -155.09            80.60        61           1   \n",
       "3  Broken Hill    -31.95     141.43            78.80        39          29   \n",
       "4         Trat     12.50     102.50            84.99        65           0   \n",
       "5    Panlaitan     12.12     119.85            84.58        66           9   \n",
       "6     Papetoai    -17.50    -149.87            86.00        55          20   \n",
       "7    ‘Āhuimanu     21.44    -157.84            78.80        65          20   \n",
       "8       Kampot     10.62     104.18            82.40        58           0   \n",
       "9         Juba      4.85      31.58            76.24        49          19   \n",
       "\n",
       "   Wind Speed Country        Date                         Hotel Name  \n",
       "0       24.16      US  1609728186                   Maui Beach Hotel  \n",
       "1        5.82      PY  1609728165                     Factoria Hotel  \n",
       "2        9.17      US  1609728209                Hilo Hawaiian Hotel  \n",
       "3       10.29      AU  1609728445               Royal Exchange Hotel  \n",
       "4       11.41      TH  1609728593                                NaN  \n",
       "5        5.77      PH  1609728608                                NaN  \n",
       "6        2.24      PF  1609728616  Hilton Moorea Lagoon Resort & Spa  \n",
       "7       13.87      US  1609728645                                NaN  \n",
       "8        6.93      KH  1609728654                       Hotel Five.S  \n",
       "9        2.46      SS  1609728687          Pyramid Continental Hotel  "
      ],
      "text/html": "<div>\n<style scoped>\n    .dataframe tbody tr th:only-of-type {\n        vertical-align: middle;\n    }\n\n    .dataframe tbody tr th {\n        vertical-align: top;\n    }\n\n    .dataframe thead th {\n        text-align: right;\n    }\n</style>\n<table border=\"1\" class=\"dataframe\">\n  <thead>\n    <tr style=\"text-align: right;\">\n      <th></th>\n      <th>City</th>\n      <th>Latitude</th>\n      <th>Longitude</th>\n      <th>Max Temperature</th>\n      <th>Humidity</th>\n      <th>Cloudiness</th>\n      <th>Wind Speed</th>\n      <th>Country</th>\n      <th>Date</th>\n      <th>Hotel Name</th>\n    </tr>\n  </thead>\n  <tbody>\n    <tr>\n      <th>0</th>\n      <td>Kahului</td>\n      <td>20.89</td>\n      <td>-156.47</td>\n      <td>80.60</td>\n      <td>54</td>\n      <td>1</td>\n      <td>24.16</td>\n      <td>US</td>\n      <td>1609728186</td>\n      <td>Maui Beach Hotel</td>\n    </tr>\n    <tr>\n      <th>1</th>\n      <td>San Lorenzo</td>\n      <td>-25.33</td>\n      <td>-57.53</td>\n      <td>82.40</td>\n      <td>58</td>\n      <td>0</td>\n      <td>5.82</td>\n      <td>PY</td>\n      <td>1609728165</td>\n      <td>Factoria Hotel</td>\n    </tr>\n    <tr>\n      <th>2</th>\n      <td>Hilo</td>\n      <td>19.73</td>\n      <td>-155.09</td>\n      <td>80.60</td>\n      <td>61</td>\n      <td>1</td>\n      <td>9.17</td>\n      <td>US</td>\n      <td>1609728209</td>\n      <td>Hilo Hawaiian Hotel</td>\n    </tr>\n    <tr>\n      <th>3</th>\n      <td>Broken Hill</td>\n      <td>-31.95</td>\n      <td>141.43</td>\n      <td>78.80</td>\n      <td>39</td>\n      <td>29</td>\n      <td>10.29</td>\n      <td>AU</td>\n      <td>1609728445</td>\n      <td>Royal Exchange Hotel</td>\n    </tr>\n    <tr>\n      <th>4</th>\n      <td>Trat</td>\n      <td>12.50</td>\n      <td>102.50</td>\n      <td>84.99</td>\n      <td>65</td>\n      <td>0</td>\n      <td>11.41</td>\n      <td>TH</td>\n      <td>1609728593</td>\n      <td>NaN</td>\n    </tr>\n    <tr>\n      <th>5</th>\n      <td>Panlaitan</td>\n      <td>12.12</td>\n      <td>119.85</td>\n      <td>84.58</td>\n      <td>66</td>\n      <td>9</td>\n      <td>5.77</td>\n      <td>PH</td>\n      <td>1609728608</td>\n      <td>NaN</td>\n    </tr>\n    <tr>\n      <th>6</th>\n      <td>Papetoai</td>\n      <td>-17.50</td>\n      <td>-149.87</td>\n      <td>86.00</td>\n      <td>55</td>\n      <td>20</td>\n      <td>2.24</td>\n      <td>PF</td>\n      <td>1609728616</td>\n      <td>Hilton Moorea Lagoon Resort &amp; Spa</td>\n    </tr>\n    <tr>\n      <th>7</th>\n      <td>‘Āhuimanu</td>\n      <td>21.44</td>\n      <td>-157.84</td>\n      <td>78.80</td>\n      <td>65</td>\n      <td>20</td>\n      <td>13.87</td>\n      <td>US</td>\n      <td>1609728645</td>\n      <td>NaN</td>\n    </tr>\n    <tr>\n      <th>8</th>\n      <td>Kampot</td>\n      <td>10.62</td>\n      <td>104.18</td>\n      <td>82.40</td>\n      <td>58</td>\n      <td>0</td>\n      <td>6.93</td>\n      <td>KH</td>\n      <td>1609728654</td>\n      <td>Hotel Five.S</td>\n    </tr>\n    <tr>\n      <th>9</th>\n      <td>Juba</td>\n      <td>4.85</td>\n      <td>31.58</td>\n      <td>76.24</td>\n      <td>49</td>\n      <td>19</td>\n      <td>2.46</td>\n      <td>SS</td>\n      <td>1609728687</td>\n      <td>Pyramid Continental Hotel</td>\n    </tr>\n  </tbody>\n</table>\n</div>"
     },
     "metadata": {},
     "execution_count": 50
    }
   ],
   "source": [
    "Renamed_df = Perfect_weather_hotels.rename(columns= {\"City Name\" : \"City\"})\n",
    "\n",
    "Renamed_df"
   ]
  },
  {
   "source": [
    "Plot markers on top of the heatmap."
   ],
   "cell_type": "markdown",
   "metadata": {}
  },
  {
   "cell_type": "code",
   "execution_count": 58,
   "metadata": {},
   "outputs": [],
   "source": [
    "# NOTE: Do not change any of the code in this cell\n",
    "\n",
    "# Using the template add the hotel marks to the heatmap\n",
    "info_box_template = \"\"\"\n",
    "<dl>\n",
    "<dt>Name</dt><dd>{Hotel Name}</dd>\n",
    "<dt>City</dt><dd>{City}</dd>\n",
    "<dt>Country</dt><dd>{Country}</dd>\n",
    "</dl>\n",
    "\"\"\"\n",
    "# Store the DataFrame Row\n",
    "# NOTE: be sure to update with your DataFrame name\n",
    "hotel_info = [info_box_template.format(**row) for index, row in Renamed_df.iterrows()]\n",
    "locations = Renamed_df[[\"Latitude\", \"Longitude\"]]\n"
   ]
  },
  {
   "cell_type": "code",
   "execution_count": 65,
   "metadata": {},
   "outputs": [
    {
     "output_type": "display_data",
     "data": {
      "text/plain": "Figure(layout=FigureLayout(height='420px'))",
      "application/vnd.jupyter.widget-view+json": {
       "version_major": 2,
       "version_minor": 0,
       "model_id": "fb7bcde131a64780afab3950470cd63c"
      }
     },
     "metadata": {}
    }
   ],
   "source": [
    "# Add marker layer \n",
    "\n",
    "marker_layer = gmaps.marker_layer(locations, info_box_content= hotel_info)\n",
    "fig= gmaps.figure()\n",
    "\n",
    "#Zoom in before adding layers\n",
    "fig = gmaps.figure(center=(0, 0), zoom_level=2)\n",
    "\n",
    "#Add marker layer\n",
    "fig.add_layer(marker_layer)\n",
    "\n",
    "#Add heat layer\n",
    "fig.add_layer(heat_layer)\n",
    "\n",
    "# fig = gmaps.figure(center=(0, 0), zoom_level=2)\n",
    "\n",
    "# Display figure\n",
    "fig"
   ]
  },
  {
   "cell_type": "code",
   "execution_count": null,
   "metadata": {},
   "outputs": [],
   "source": []
  }
 ],
 "metadata": {
  "kernelspec": {
   "name": "python3",
   "display_name": "Python 3.8.3 64-bit (conda)",
   "metadata": {
    "interpreter": {
     "hash": "72a673a4f0fb58cf6a5457002161524e130d8c961ac4e17e823e9d139e34e60c"
    }
   }
  },
  "language_info": {
   "codemirror_mode": {
    "name": "ipython",
    "version": 3
   },
   "file_extension": ".py",
   "mimetype": "text/x-python",
   "name": "python",
   "nbconvert_exporter": "python",
   "pygments_lexer": "ipython3",
   "version": "3.8.3-final"
  },
  "latex_envs": {
   "LaTeX_envs_menu_present": true,
   "autoclose": false,
   "autocomplete": true,
   "bibliofile": "biblio.bib",
   "cite_by": "apalike",
   "current_citInitial": 1,
   "eqLabelWithNumbers": true,
   "eqNumInitial": 1,
   "hotkeys": {
    "equation": "Ctrl-E",
    "itemize": "Ctrl-I"
   },
   "labels_anchors": false,
   "latex_user_defs": false,
   "report_style_numbering": false,
   "user_envs_cfg": false
  }
 },
 "nbformat": 4,
 "nbformat_minor": 4
}