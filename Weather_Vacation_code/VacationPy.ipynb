{
 "cells": [
  {
   "cell_type": "markdown",
   "metadata": {},
   "source": [
    "# VacationPy\n",
    "----\n",
    "\n",
    "#### Note\n",
    "* Keep an eye on your API usage. Use https://developers.google.com/maps/reporting/gmp-reporting as reference for how to monitor your usage and billing.\n",
    "\n",
    "* Instructions have been included for each segment. You do not have to follow them exactly, but they are included to help you think through the steps."
   ]
  },
  {
   "cell_type": "code",
   "execution_count": 1,
   "metadata": {},
   "outputs": [],
   "source": [
    "# Dependencies and Setup\n",
    "import matplotlib.pyplot as plt\n",
    "import pandas as pd\n",
    "import numpy as np\n",
    "import requests\n",
    "import gmaps\n",
    "import os\n",
    "from pprint import pprint\n",
    "\n",
    "# Import API key\n",
    "from api_keys import g_key\n",
    "\n",
    "#Configure gmaps\n",
    "gmaps.configure(api_key=g_key)\n",
    "\n"
   ]
  },
  {
   "cell_type": "markdown",
   "metadata": {},
   "source": [
    "### Store Part I results into DataFrame\n",
    "* Load the csv exported in Part I to a DataFrame"
   ]
  },
  {
   "cell_type": "code",
   "execution_count": 2,
   "metadata": {},
   "outputs": [
    {
     "output_type": "execute_result",
     "data": {
      "text/plain": [
       "      City Name  Latitude  Longitude  Max Temperature  Humidity  Cloudiness  \\\n",
       "0      Qaqortoq   60.7167   -46.0333            41.00        36          75   \n",
       "1  Ponta do Sol   32.6667   -17.1000            55.00        66           9   \n",
       "2         Bluff  -46.6000   168.3333            63.25        57          13   \n",
       "3     Carnarvon  -24.8667   113.6333            80.60        74          75   \n",
       "4        Albany   42.6001   -73.9662            28.99        67          18   \n",
       "\n",
       "   Wind Speed Country        Date  \n",
       "0       26.46      GL  1610414487  \n",
       "1        3.00      PT  1610414126  \n",
       "2        2.10      NZ  1610414251  \n",
       "3       21.85      AU  1610414250  \n",
       "4        2.71      US  1610414180  "
      ],
      "text/html": "<div>\n<style scoped>\n    .dataframe tbody tr th:only-of-type {\n        vertical-align: middle;\n    }\n\n    .dataframe tbody tr th {\n        vertical-align: top;\n    }\n\n    .dataframe thead th {\n        text-align: right;\n    }\n</style>\n<table border=\"1\" class=\"dataframe\">\n  <thead>\n    <tr style=\"text-align: right;\">\n      <th></th>\n      <th>City Name</th>\n      <th>Latitude</th>\n      <th>Longitude</th>\n      <th>Max Temperature</th>\n      <th>Humidity</th>\n      <th>Cloudiness</th>\n      <th>Wind Speed</th>\n      <th>Country</th>\n      <th>Date</th>\n    </tr>\n  </thead>\n  <tbody>\n    <tr>\n      <th>0</th>\n      <td>Qaqortoq</td>\n      <td>60.7167</td>\n      <td>-46.0333</td>\n      <td>41.00</td>\n      <td>36</td>\n      <td>75</td>\n      <td>26.46</td>\n      <td>GL</td>\n      <td>1610414487</td>\n    </tr>\n    <tr>\n      <th>1</th>\n      <td>Ponta do Sol</td>\n      <td>32.6667</td>\n      <td>-17.1000</td>\n      <td>55.00</td>\n      <td>66</td>\n      <td>9</td>\n      <td>3.00</td>\n      <td>PT</td>\n      <td>1610414126</td>\n    </tr>\n    <tr>\n      <th>2</th>\n      <td>Bluff</td>\n      <td>-46.6000</td>\n      <td>168.3333</td>\n      <td>63.25</td>\n      <td>57</td>\n      <td>13</td>\n      <td>2.10</td>\n      <td>NZ</td>\n      <td>1610414251</td>\n    </tr>\n    <tr>\n      <th>3</th>\n      <td>Carnarvon</td>\n      <td>-24.8667</td>\n      <td>113.6333</td>\n      <td>80.60</td>\n      <td>74</td>\n      <td>75</td>\n      <td>21.85</td>\n      <td>AU</td>\n      <td>1610414250</td>\n    </tr>\n    <tr>\n      <th>4</th>\n      <td>Albany</td>\n      <td>42.6001</td>\n      <td>-73.9662</td>\n      <td>28.99</td>\n      <td>67</td>\n      <td>18</td>\n      <td>2.71</td>\n      <td>US</td>\n      <td>1610414180</td>\n    </tr>\n  </tbody>\n</table>\n</div>"
     },
     "metadata": {},
     "execution_count": 2
    }
   ],
   "source": [
    "# Output File (CSV)\n",
    "input_data_file = \"../output_data/cities.csv\"\n",
    "\n",
    "#Read WeatherPy CSV file\n",
    "Final_city_data= pd.read_csv(input_data_file)\n",
    "\n",
    "Final_city_data.head()"
   ]
  },
  {
   "cell_type": "markdown",
   "metadata": {},
   "source": [
    "### Humidity Heatmap\n",
    "* Configure gmaps.\n",
    "* Use the Lat and Lng as locations and Humidity as the weight.\n",
    "* Add Heatmap layer to map."
   ]
  },
  {
   "cell_type": "code",
   "execution_count": 3,
   "metadata": {},
   "outputs": [],
   "source": [
    "#Use the Lat and Lng as locations and Humidity as the weight.\n",
    "locations = Final_city_data[[\"Latitude\", \"Longitude\"]].astype(float)\n",
    "\n",
    "humidity= Final_city_data[\"Humidity\"].astype(float)\n"
   ]
  },
  {
   "cell_type": "code",
   "execution_count": 4,
   "metadata": {},
   "outputs": [
    {
     "output_type": "display_data",
     "data": {
      "text/plain": "Figure(layout=FigureLayout(height='420px'))",
      "application/vnd.jupyter.widget-view+json": {
       "version_major": 2,
       "version_minor": 0,
       "model_id": "30969e0a42784f6fbc92583940a64332"
      }
     },
     "metadata": {}
    }
   ],
   "source": [
    "fig= gmaps.figure()\n",
    "\n",
    "heat_layer = gmaps.heatmap_layer(locations, weights=humidity, \n",
    "                                 dissipating=False, max_intensity=100,\n",
    "                                 point_radius = 1)\n",
    "fig = gmaps.figure(center=(0, 0), zoom_level=2)\n",
    "fig.add_layer(heat_layer)\n",
    "\n",
    "fig"
   ]
  },
  {
   "cell_type": "markdown",
   "metadata": {},
   "source": [
    "### Create new DataFrame fitting weather criteria\n",
    "* Narrow down the cities to fit weather conditions.\n",
    "* Drop any rows will null values."
   ]
  },
  {
   "cell_type": "code",
   "execution_count": 5,
   "metadata": {},
   "outputs": [
    {
     "output_type": "execute_result",
     "data": {
      "text/plain": [
       "      City Name  Latitude  Longitude  Max Temperature  Humidity  Cloudiness  \\\n",
       "24         Hilo   19.7297  -155.0900            80.60        61           1   \n",
       "73     Waingapu   -9.6567   120.2641            85.64        64           3   \n",
       "99   Maningrida  -12.0667   134.2667            89.58        63           5   \n",
       "110   Mount Isa  -20.7333   139.5000            93.20        36           0   \n",
       "201     Merauke   -8.4667   140.3333            85.57        67          26   \n",
       "\n",
       "     Wind Speed Country        Date  \n",
       "24        11.50      US  1610414274  \n",
       "73         3.13      ID  1610414499  \n",
       "99         2.93      AU  1610414297  \n",
       "110        6.91      AU  1610414328  \n",
       "201        1.59      ID  1610414316  "
      ],
      "text/html": "<div>\n<style scoped>\n    .dataframe tbody tr th:only-of-type {\n        vertical-align: middle;\n    }\n\n    .dataframe tbody tr th {\n        vertical-align: top;\n    }\n\n    .dataframe thead th {\n        text-align: right;\n    }\n</style>\n<table border=\"1\" class=\"dataframe\">\n  <thead>\n    <tr style=\"text-align: right;\">\n      <th></th>\n      <th>City Name</th>\n      <th>Latitude</th>\n      <th>Longitude</th>\n      <th>Max Temperature</th>\n      <th>Humidity</th>\n      <th>Cloudiness</th>\n      <th>Wind Speed</th>\n      <th>Country</th>\n      <th>Date</th>\n    </tr>\n  </thead>\n  <tbody>\n    <tr>\n      <th>24</th>\n      <td>Hilo</td>\n      <td>19.7297</td>\n      <td>-155.0900</td>\n      <td>80.60</td>\n      <td>61</td>\n      <td>1</td>\n      <td>11.50</td>\n      <td>US</td>\n      <td>1610414274</td>\n    </tr>\n    <tr>\n      <th>73</th>\n      <td>Waingapu</td>\n      <td>-9.6567</td>\n      <td>120.2641</td>\n      <td>85.64</td>\n      <td>64</td>\n      <td>3</td>\n      <td>3.13</td>\n      <td>ID</td>\n      <td>1610414499</td>\n    </tr>\n    <tr>\n      <th>99</th>\n      <td>Maningrida</td>\n      <td>-12.0667</td>\n      <td>134.2667</td>\n      <td>89.58</td>\n      <td>63</td>\n      <td>5</td>\n      <td>2.93</td>\n      <td>AU</td>\n      <td>1610414297</td>\n    </tr>\n    <tr>\n      <th>110</th>\n      <td>Mount Isa</td>\n      <td>-20.7333</td>\n      <td>139.5000</td>\n      <td>93.20</td>\n      <td>36</td>\n      <td>0</td>\n      <td>6.91</td>\n      <td>AU</td>\n      <td>1610414328</td>\n    </tr>\n    <tr>\n      <th>201</th>\n      <td>Merauke</td>\n      <td>-8.4667</td>\n      <td>140.3333</td>\n      <td>85.57</td>\n      <td>67</td>\n      <td>26</td>\n      <td>1.59</td>\n      <td>ID</td>\n      <td>1610414316</td>\n    </tr>\n  </tbody>\n</table>\n</div>"
     },
     "metadata": {},
     "execution_count": 5
    }
   ],
   "source": [
    "#Narrow down the cities to fit weather conditions.\n",
    "Perfect_humidity= Final_city_data.loc[Final_city_data[\"Humidity\"] <= 68]\n",
    "\n",
    "Perfect_temp= Perfect_humidity.loc[Perfect_humidity[\"Max Temperature\"] > 75 ]\n",
    "\n",
    "#Store into variable named hotel_df.\n",
    "hotel_df= Perfect_temp.loc[Perfect_temp[\"Cloudiness\"] <= 30 ]\n",
    "\n",
    "hotel_df.head()"
   ]
  },
  {
   "cell_type": "markdown",
   "metadata": {},
   "source": [
    "### Hotel Map\n",
    "* Store into variable named `hotel_df`.\n",
    "* Add a \"Hotel Name\" column to the DataFrame.\n",
    "* Set parameters to search for hotels with 5000 meters.\n",
    "* Hit the Google Places API for each city's coordinates.\n",
    "* Store the first Hotel result into the DataFrame.\n",
    "* Plot markers on top of the heatmap."
   ]
  },
  {
   "cell_type": "code",
   "execution_count": 6,
   "metadata": {},
   "outputs": [
    {
     "output_type": "execute_result",
     "data": {
      "text/plain": [
       "      City Name  Latitude  Longitude  Max Temperature  Humidity  Cloudiness  \\\n",
       "24         Hilo   19.7297  -155.0900            80.60        61           1   \n",
       "73     Waingapu   -9.6567   120.2641            85.64        64           3   \n",
       "99   Maningrida  -12.0667   134.2667            89.58        63           5   \n",
       "110   Mount Isa  -20.7333   139.5000            93.20        36           0   \n",
       "201     Merauke   -8.4667   140.3333            85.57        67          26   \n",
       "\n",
       "     Wind Speed Country        Date Hotel Name  \n",
       "24        11.50      US  1610414274             \n",
       "73         3.13      ID  1610414499             \n",
       "99         2.93      AU  1610414297             \n",
       "110        6.91      AU  1610414328             \n",
       "201        1.59      ID  1610414316             "
      ],
      "text/html": "<div>\n<style scoped>\n    .dataframe tbody tr th:only-of-type {\n        vertical-align: middle;\n    }\n\n    .dataframe tbody tr th {\n        vertical-align: top;\n    }\n\n    .dataframe thead th {\n        text-align: right;\n    }\n</style>\n<table border=\"1\" class=\"dataframe\">\n  <thead>\n    <tr style=\"text-align: right;\">\n      <th></th>\n      <th>City Name</th>\n      <th>Latitude</th>\n      <th>Longitude</th>\n      <th>Max Temperature</th>\n      <th>Humidity</th>\n      <th>Cloudiness</th>\n      <th>Wind Speed</th>\n      <th>Country</th>\n      <th>Date</th>\n      <th>Hotel Name</th>\n    </tr>\n  </thead>\n  <tbody>\n    <tr>\n      <th>24</th>\n      <td>Hilo</td>\n      <td>19.7297</td>\n      <td>-155.0900</td>\n      <td>80.60</td>\n      <td>61</td>\n      <td>1</td>\n      <td>11.50</td>\n      <td>US</td>\n      <td>1610414274</td>\n      <td></td>\n    </tr>\n    <tr>\n      <th>73</th>\n      <td>Waingapu</td>\n      <td>-9.6567</td>\n      <td>120.2641</td>\n      <td>85.64</td>\n      <td>64</td>\n      <td>3</td>\n      <td>3.13</td>\n      <td>ID</td>\n      <td>1610414499</td>\n      <td></td>\n    </tr>\n    <tr>\n      <th>99</th>\n      <td>Maningrida</td>\n      <td>-12.0667</td>\n      <td>134.2667</td>\n      <td>89.58</td>\n      <td>63</td>\n      <td>5</td>\n      <td>2.93</td>\n      <td>AU</td>\n      <td>1610414297</td>\n      <td></td>\n    </tr>\n    <tr>\n      <th>110</th>\n      <td>Mount Isa</td>\n      <td>-20.7333</td>\n      <td>139.5000</td>\n      <td>93.20</td>\n      <td>36</td>\n      <td>0</td>\n      <td>6.91</td>\n      <td>AU</td>\n      <td>1610414328</td>\n      <td></td>\n    </tr>\n    <tr>\n      <th>201</th>\n      <td>Merauke</td>\n      <td>-8.4667</td>\n      <td>140.3333</td>\n      <td>85.57</td>\n      <td>67</td>\n      <td>26</td>\n      <td>1.59</td>\n      <td>ID</td>\n      <td>1610414316</td>\n      <td></td>\n    </tr>\n  </tbody>\n</table>\n</div>"
     },
     "metadata": {},
     "execution_count": 6
    }
   ],
   "source": [
    "#Add a \"Hotel Name\" column to the DataFrame.\n",
    "hotel_df[\"Hotel Name\"] = \"\"\n",
    "\n",
    "hotel_df.head()"
   ]
  },
  {
   "cell_type": "code",
   "execution_count": 7,
   "metadata": {},
   "outputs": [],
   "source": [
    "# Hit the Google Places API for each city's coordinates.\n",
    "target_search = \"Hotel\"\n",
    "target_radius = 5000\n",
    "\n",
    "\n",
    "#Set parameters to search for specifics\n",
    "params = { \n",
    "    \"keyword\": target_search,\n",
    "    \"radius\": target_radius, \n",
    "    \"key\":g_key, \n",
    "}"
   ]
  },
  {
   "cell_type": "code",
   "execution_count": 8,
   "metadata": {},
   "outputs": [
    {
     "output_type": "stream",
     "name": "stdout",
     "text": [
      "Beginning Data Retrieval\n",
      "-------------------------\n",
      "Missing result. Skipping... .\n",
      "Missing result. Skipping... .\n",
      "Missing result. Skipping... .\n",
      "Missing result. Skipping... .\n",
      "Missing result. Skipping... .\n"
     ]
    }
   ],
   "source": [
    "print(\"Beginning Data Retrieval\")\n",
    "print(\"-------------------------\")\n",
    "\n",
    "# Use iterrows to iterate through dataframe\n",
    "for index, row in hotel_df.iterrows():\n",
    "\n",
    "    #Store latitude and longitude from hotel_df\n",
    "    lat = row['Latitude']\n",
    "    lng = row['Longitude']\n",
    "\n",
    "\n",
    "    #Update location each iteration while leaving original params in place\n",
    "    params[\"location\"] = f\"{lat},{lng}\"\n",
    "\n",
    "\n",
    "    #Set the base_url\n",
    "    base_url = \"https://maps.googleapis.com/maps/api/place/nearbysearch/json\"\n",
    "\n",
    "    # make request and print url\n",
    "    hotel_names = requests.get(base_url, params=params)\n",
    "    hotel_names = hotel_names.json()\n",
    "\n",
    "    # Since some data may be missing we incorporate a try-except to skip any that are missing a data point.\n",
    "    try:\n",
    "        hotel_df.loc[index, \"Hotel Name\"] = hotel_names[\"results\"][0][\"name\"]\n",
    "\n",
    "    except (KeyError, IndexError, TypeError):\n",
    "        print(\"Missing result. Skipping... .\")"
   ]
  },
  {
   "cell_type": "code",
   "execution_count": 9,
   "metadata": {
    "tags": [
     "outputPrepend"
    ]
   },
   "outputs": [
    {
     "output_type": "stream",
     "name": "stdout",
     "text": [
      "NFsfSRxsP8ElGLXNmTYGzyY',\n                          'width': 800}],\n              'place_id': 'ChIJ65JsYnsGw2oRV0JAcg8Zses',\n              'plus_code': {'compound_code': 'R48V+4F Mildura, Victoria, '\n                                             'Australia',\n                            'global_code': '4RQ4R48V+4F'},\n              'rating': 4.3,\n              'reference': 'ChIJ65JsYnsGw2oRV0JAcg8Zses',\n              'scope': 'GOOGLE',\n              'types': ['real_estate_agency',\n                        'travel_agency',\n                        'lodging',\n                        'point_of_interest',\n                        'establishment'],\n              'user_ratings_total': 12,\n              'vicinity': '202 Ontario Ave, Mildura'},\n             {'business_status': 'OPERATIONAL',\n              'geometry': {'location': {'lat': -34.1947471, 'lng': 142.151578},\n                           'viewport': {'northeast': {'lat': -34.19331552010728,\n                                                      'lng': 142.1528308798927},\n                                        'southwest': {'lat': -34.19601517989272,\n                                                      'lng': 142.1501312201073}}},\n              'icon': 'https://maps.gstatic.com/mapfiles/place_api/icons/v1/png_71/lodging-71.png',\n              'name': 'Best Western Chaffey International Motor Inn',\n              'opening_hours': {'open_now': True},\n              'photos': [{'height': 2080,\n                          'html_attributions': ['<a '\n                                                'href=\"https://maps.google.com/maps/contrib/102882745906598593439\">BEST '\n                                                'WESTERN Chaffey International '\n                                                'Motor Inn</a>'],\n                          'photo_reference': 'ATtYBwKlpI05F5Dv5MYXlBdKTIkZd6l3mlamlnPFe6JH2qUQyegzphFgWIobW4nvQb8M1y5dnyAriPRoVsHHfpJdlAKCzo_a5H81ZS0hPu7XDtQyV_OIHC6j7MCNXLxOvtGGe7ZLu9zq0cfN3260W13UTnbsdUCuWljMmhO6GOvBE-iU-SgU',\n                          'width': 4445}],\n              'place_id': 'ChIJz8lo1n4Dw2oRGWZEU5AzADo',\n              'plus_code': {'compound_code': 'R542+4J Mildura, Victoria, '\n                                             'Australia',\n                            'global_code': '4RQ4R542+4J'},\n              'rating': 4.6,\n              'reference': 'ChIJz8lo1n4Dw2oRGWZEU5AzADo',\n              'scope': 'GOOGLE',\n              'types': ['lodging', 'point_of_interest', 'establishment'],\n              'user_ratings_total': 142,\n              'vicinity': '244 Deakin Ave, Mildura'},\n             {'business_status': 'OPERATIONAL',\n              'geometry': {'location': {'lat': -34.2037922, 'lng': 142.1390533},\n                           'viewport': {'northeast': {'lat': -34.20257857010727,\n                                                      'lng': 142.1405663798927},\n                                        'southwest': {'lat': -34.20527822989271,\n                                                      'lng': 142.1378667201073}}},\n              'icon': 'https://maps.gstatic.com/mapfiles/place_api/icons/v1/png_71/lodging-71.png',\n              'name': 'Comfort Inn Deakin Palms',\n              'opening_hours': {'open_now': True},\n              'photos': [{'height': 2057,\n                          'html_attributions': ['<a '\n                                                'href=\"https://maps.google.com/maps/contrib/112890864122500458968\">Comfort '\n                                                'Inn Deakin Palms</a>'],\n                          'photo_reference': 'ATtYBwKd-qTQdYWvmjIeAq0ft2BxclQWznPndkk4XFgfz26L7m5Ut2ONWo1VAVMCZRnGChUXf8rEHlB83B9mc_s2kKGcHYW8KOO1jdmxBoWJFXrL3nQDkSHVHjkzg6jwTpXWc3F38OnYJH7Ao8kN4YtIR_MHm2shXFYbLFbrPaxa2Za6FWFK',\n                          'width': 2880}],\n              'place_id': 'ChIJNym5TWUEw2oRNOJYpSjXnxk',\n              'plus_code': {'compound_code': 'Q4WQ+FJ Mildura, Victoria, '\n                                             'Australia',\n                            'global_code': '4RQ4Q4WQ+FJ'},\n              'rating': 4.4,\n              'reference': 'ChIJNym5TWUEw2oRNOJYpSjXnxk',\n              'scope': 'GOOGLE',\n              'types': ['lodging', 'point_of_interest', 'establishment'],\n              'user_ratings_total': 122,\n              'vicinity': '413 Deakin Ave, Mildura'},\n             {'business_status': 'OPERATIONAL',\n              'geometry': {'location': {'lat': -34.170748, 'lng': 142.180377},\n                           'viewport': {'northeast': {'lat': -34.16938552010728,\n                                                      'lng': 142.1817942298927},\n                                        'southwest': {'lat': -34.17208517989273,\n                                                      'lng': 142.1790945701073}}},\n              'icon': 'https://maps.gstatic.com/mapfiles/place_api/icons/v1/png_71/lodging-71.png',\n              'name': 'Sun River Resort Motel',\n              'photos': [{'height': 2016,\n                          'html_attributions': ['<a '\n                                                'href=\"https://maps.google.com/maps/contrib/114994747140347713243\">A '\n                                                'Google User</a>'],\n                          'photo_reference': 'ATtYBwKoc0Y3LHGEGSpwBfPVf5YJ41HLk1xXhFnccKoDIsc19BDrybYy1bTg3BkEppiD6v0CGY9NOuJZj9Tf9JfERuspRQBUK6J1pCUPDLzAJEiFiAWTiEfDGZrM_joh4VYV1_UtlDIh9h9Pex8lARbQSM8U0F885zKfOksSRyTtsFzjBJ7T',\n                          'width': 1504}],\n              'place_id': 'ChIJnYc9ANgCw2oRqv-lzySzrJc',\n              'plus_code': {'compound_code': 'R5HJ+P5 Buronga, New South '\n                                             'Wales, Australia',\n                            'global_code': '4RQ4R5HJ+P5'},\n              'rating': 4.1,\n              'reference': 'ChIJnYc9ANgCw2oRqv-lzySzrJc',\n              'scope': 'GOOGLE',\n              'types': ['lodging', 'point_of_interest', 'establishment'],\n              'user_ratings_total': 49,\n              'vicinity': '5 Silver City Hwy, Buronga'},\n             {'business_status': 'OPERATIONAL',\n              'geometry': {'location': {'lat': -34.17874, 'lng': 142.137198},\n                           'viewport': {'northeast': {'lat': -34.17741137010728,\n                                                      'lng': 142.1385476798928},\n                                        'southwest': {'lat': -34.18011102989272,\n                                                      'lng': 142.1358480201073}}},\n              'icon': 'https://maps.gstatic.com/mapfiles/place_api/icons/v1/png_71/golf-71.png',\n              'name': 'Mildura Golf Resort',\n              'opening_hours': {'open_now': True},\n              'photos': [{'height': 3840,\n                          'html_attributions': ['<a '\n                                                'href=\"https://maps.google.com/maps/contrib/113315705499305939499\">Reservations '\n                                                'Promotions</a>'],\n                          'photo_reference': 'ATtYBwKaFsPzcBmrDiWrRhFqUZ_zWyJy13e4puJHaf8L7jskfrdTgI6RXyH7pm9Cv6dEsIR--uOdKlc8DVKKEX-pwjQ9LFBP9O91qfQBket5u6Wfupl7sMk1v5juXvdSuh5QAJ260qBxsMYRZXbKUVto6cv4eBvgMUgf_r6DmTDOSMUcKTGz',\n                          'width': 5760}],\n              'place_id': 'ChIJAQAAADAEw2oRAGjPwWa4cBE',\n              'plus_code': {'compound_code': 'R4CP+GV Mildura, Victoria, '\n                                             'Australia',\n                            'global_code': '4RQ4R4CP+GV'},\n              'rating': 4,\n              'reference': 'ChIJAQAAADAEw2oRAGjPwWa4cBE',\n              'scope': 'GOOGLE',\n              'types': ['lodging', 'point_of_interest', 'establishment'],\n              'user_ratings_total': 305,\n              'vicinity': '287 Twelfth St, Mildura'},\n             {'business_status': 'OPERATIONAL',\n              'geometry': {'location': {'lat': -34.181761, 'lng': 142.161581},\n                           'viewport': {'northeast': {'lat': -34.18030397010727,\n                                                      'lng': 142.1630620298927},\n                                        'southwest': {'lat': -34.18300362989272,\n                                                      'lng': 142.1603623701072}}},\n              'icon': 'https://maps.gstatic.com/mapfiles/place_api/icons/v1/png_71/lodging-71.png',\n              'name': '7th Street Motel',\n              'opening_hours': {'open_now': True},\n              'photos': [{'height': 1000,\n                          'html_attributions': ['<a '\n                                                'href=\"https://maps.google.com/maps/contrib/101901455778273897603\">7th '\n                                                'Street Motel</a>'],\n                          'photo_reference': 'ATtYBwKWla2DyDZwVHk7ajWoXV5LTYe3Z9IueE918Lx9EV7ElxMpM81m4azo-xOLcJ3tHWe84YOYTWzjil_hfXUY0j7WePJmBwl2ukepuMNNI94bebiCdcV2uvq9hEShV3Zy8dRCeu4IG3cf1nKHQCJO376DfUCSoo4bI3LdMTMqMPBN0QIf',\n                          'width': 1000}],\n              'place_id': 'ChIJqwjI_RIDw2oRU3g3qH1xgNg',\n              'plus_code': {'compound_code': 'R596+7J Mildura, Victoria, '\n                                             'Australia',\n                            'global_code': '4RQ4R596+7J'},\n              'rating': 4.2,\n              'reference': 'ChIJqwjI_RIDw2oRU3g3qH1xgNg',\n              'scope': 'GOOGLE',\n              'types': ['lodging', 'point_of_interest', 'establishment'],\n              'user_ratings_total': 45,\n              'vicinity': '153 Seventh St, Mildura'},\n             {'business_status': 'OPERATIONAL',\n              'geometry': {'location': {'lat': -34.188567, 'lng': 142.160339},\n                           'viewport': {'northeast': {'lat': -34.18728417010728,\n                                                      'lng': 142.1617684298927},\n                                        'southwest': {'lat': -34.18998382989272,\n                                                      'lng': 142.1590687701073}}},\n              'icon': 'https://maps.gstatic.com/mapfiles/place_api/icons/v1/png_71/lodging-71.png',\n              'name': 'Quest Mildura Apartment Hotel',\n              'opening_hours': {'open_now': True},\n              'photos': [{'height': 1365,\n                          'html_attributions': ['<a '\n                                                'href=\"https://maps.google.com/maps/contrib/116958312241661985570\">Mildura '\n                                                'Serviced Apartments - '\n                                                'Quest</a>'],\n                          'photo_reference': 'ATtYBwKwHBpixMJma989cMA9a_9O3T3UjTpiRk1A_CoWdjO9oUn7SovERyXiJSDdzqZlHdMyJWL238V2wlxdufDTpPfwFLbPQoH6ozy_cRcuDyucxGJM8eTwKmCdqfV-LXRNdDStVMhA0wTjdSpYkOwY9Yw5PAAFX_iUtuWpPDQPSrYyiHq1',\n                          'width': 2048}],\n              'place_id': 'ChIJt9NfBW4Dw2oRSApmcbh9dfU',\n              'plus_code': {'compound_code': 'R566+H4 Mildura, Victoria, '\n                                             'Australia',\n                            'global_code': '4RQ4R566+H4'},\n              'rating': 4.3,\n              'reference': 'ChIJt9NfBW4Dw2oRSApmcbh9dfU',\n              'scope': 'GOOGLE',\n              'types': ['lodging', 'point_of_interest', 'establishment'],\n              'user_ratings_total': 166,\n              'vicinity': '115/119 Madden Ave, Mildura'},\n             {'business_status': 'OPERATIONAL',\n              'geometry': {'location': {'lat': -34.2093639, 'lng': 142.1387473},\n                           'viewport': {'northeast': {'lat': -34.20788617010728,\n                                                      'lng': 142.1402536298927},\n                                        'southwest': {'lat': -34.21058582989273,\n                                                      'lng': 142.1375539701073}}},\n              'icon': 'https://maps.gstatic.com/mapfiles/place_api/icons/v1/png_71/lodging-71.png',\n              'name': 'Mildura Plaza Motor Inn',\n              'photos': [{'height': 3024,\n                          'html_attributions': ['<a '\n                                                'href=\"https://maps.google.com/maps/contrib/104714787069182700728\">Cheryl '\n                                                'Mack</a>'],\n                          'photo_reference': 'ATtYBwJBeb6Ih7berTzMbZDjqi8VVru13m5jOiz7jAphO02Lm6YJPzWbov9Dx1Ap-lSLmRoJtuqRKzzDlHdC22W8fu0wGArXkcqlvcHIk6kWgltG4a7H1NzYl89A1ye4WEDMyfty4va7hHWA8XxoFqlC1PU7lkkNsYBZfw_w4grAODfQulcy',\n                          'width': 4032}],\n              'place_id': 'ChIJd1TNBWYEw2oRfb4nKv6KKhw',\n              'plus_code': {'compound_code': 'Q4RQ+7F Mildura, Victoria, '\n                                             'Australia',\n                            'global_code': '4RQ4Q4RQ+7F'},\n              'rating': 4.3,\n              'reference': 'ChIJd1TNBWYEw2oRfb4nKv6KKhw',\n              'scope': 'GOOGLE',\n              'types': ['lodging', 'point_of_interest', 'establishment'],\n              'user_ratings_total': 154,\n              'vicinity': '836 Calder Hwy, Mildura'},\n             {'business_status': 'OPERATIONAL',\n              'geometry': {'location': {'lat': -34.1900583, 'lng': 142.1557745},\n                           'viewport': {'northeast': {'lat': -34.18883177010729,\n                                                      'lng': 142.1572741298927},\n                                        'southwest': {'lat': -34.19153142989273,\n                                                      'lng': 142.1545744701073}}},\n              'icon': 'https://maps.gstatic.com/mapfiles/place_api/icons/v1/png_71/lodging-71.png',\n              'name': 'Sandors Motor Inn',\n              'opening_hours': {'open_now': True},\n              'photos': [{'height': 2000,\n                          'html_attributions': ['<a '\n                                                'href=\"https://maps.google.com/maps/contrib/100717652369465352442\">Sandors '\n                                                'Motor Inn</a>'],\n                          'photo_reference': 'ATtYBwIBEpIE8wRFSEZQ7oMwIsvrrK0M_81j48g2U7MwjVzzAbML05Kxz28i1WuaX-oKM7wQVQkpfl5ud8YmrVoZnLNjW0qNwOWghNdCyyf8xeGIp4BAJK3VPL67a8RCmE-B_1RDmXL-YYLirukoR6GKG9Znih1u3j4sH30ptkXaZp1CjGSG',\n                          'width': 3000}],\n              'place_id': 'ChIJPfW5lHADw2oRHMhzcbDBqIk',\n              'plus_code': {'compound_code': 'R554+X8 Mildura, Victoria, '\n                                             'Australia',\n                            'global_code': '4RQ4R554+X8'},\n              'rating': 4.3,\n              'reference': 'ChIJPfW5lHADw2oRHMhzcbDBqIk',\n              'scope': 'GOOGLE',\n              'types': ['lodging', 'point_of_interest', 'establishment'],\n              'user_ratings_total': 128,\n              'vicinity': '179 Deakin Ave, Mildura'},\n             {'business_status': 'OPERATIONAL',\n              'geometry': {'location': {'lat': -34.1766496, 'lng': 142.1458571},\n                           'viewport': {'northeast': {'lat': -34.17538727010727,\n                                                      'lng': 142.1471010298927},\n                                        'southwest': {'lat': -34.17808692989271,\n                                                      'lng': 142.1444013701073}}},\n              'icon': 'https://maps.gstatic.com/mapfiles/place_api/icons/v1/png_71/lodging-71.png',\n              'name': 'Sunraysia Resort',\n              'opening_hours': {'open_now': True},\n              'photos': [{'height': 2000,\n                          'html_attributions': ['<a '\n                                                'href=\"https://maps.google.com/maps/contrib/114761733270701800827\">Sunraysia '\n                                                'Resort</a>'],\n                          'photo_reference': 'ATtYBwIp0SzPXQdBY9yAPvR33LJAQmlhb0K8mBfUM0YkumTV57e43Ssk9q3WJvLAErgF-UbzMxow2pB3_K3NkNqlMnEGL1MVtaHmgAy-LyGxVIK_tCD2MGR-StRDQMS308BYN9L2sUYP3jq57jF53ZMYNZ7_e4_gXZiwR-9FZzyMb7Ajyzac',\n                          'width': 3008}],\n              'place_id': 'ChIJy6x1vqEDw2oRoy-EAd7NPuk',\n              'plus_code': {'compound_code': 'R4FW+88 Mildura, Victoria, '\n                                             'Australia',\n                            'global_code': '4RQ4R4FW+88'},\n              'rating': 4.5,\n              'reference': 'ChIJy6x1vqEDw2oRoy-EAd7NPuk',\n              'scope': 'GOOGLE',\n              'types': ['lodging', 'point_of_interest', 'establishment'],\n              'user_ratings_total': 340,\n              'vicinity': '290 Tenth St, Mildura'},\n             {'business_status': 'OPERATIONAL',\n              'geometry': {'location': {'lat': -34.1870101, 'lng': 142.1663182},\n                           'viewport': {'northeast': {'lat': -34.18571852010729,\n                                                      'lng': 142.1677349298928},\n                                        'southwest': {'lat': -34.18841817989273,\n                                                      'lng': 142.1650352701073}}},\n              'icon': 'https://maps.gstatic.com/mapfiles/place_api/icons/v1/png_71/lodging-71.png',\n              'name': 'Stopover',\n              'photos': [{'height': 2358,\n                          'html_attributions': ['<a '\n                                                'href=\"https://maps.google.com/maps/contrib/111595898522615981872\">Conor '\n                                                'Martin</a>'],\n                          'photo_reference': 'ATtYBwKNy6tW2j52sr-0I-bNwO_P2FXaDmRVU4PGq1QXp1iYo5opgTc4axF6Iz-wPCutMGs04OnPD7BMhiilrTslAhR7-HPw3OhCEzkItfLdFvk6CQYes18USQvlq9QomzYY-qQULrjluBi2DTkUa1vIJKaAEBX7JD9n7iTwp-zv7FzibUP6',\n                          'width': 4191}],\n              'place_id': 'ChIJnReNE2sDw2oRI7r9GJYZlTg',\n              'plus_code': {'compound_code': 'R578+5G Mildura, Victoria, '\n                                             'Australia',\n                            'global_code': '4RQ4R578+5G'},\n              'rating': 4.3,\n              'reference': 'ChIJnReNE2sDw2oRI7r9GJYZlTg',\n              'scope': 'GOOGLE',\n              'types': ['lodging', 'point_of_interest', 'establishment'],\n              'user_ratings_total': 9,\n              'vicinity': '29 Lemon Ave, Mildura'},\n             {'business_status': 'OPERATIONAL',\n              'geometry': {'location': {'lat': -34.1855805, 'lng': 142.1615883},\n                           'viewport': {'northeast': {'lat': -34.18427327010728,\n                                                      'lng': 142.1629900798928},\n                                        'southwest': {'lat': -34.18697292989273,\n                                                      'lng': 142.1602904201073}}},\n              'icon': 'https://maps.gstatic.com/mapfiles/place_api/icons/v1/png_71/lodging-71.png',\n              'name': 'Indulge Apartments (Eighth Street)',\n              'opening_hours': {'open_now': True},\n              'photos': [{'height': 533,\n                          'html_attributions': ['<a '\n                                                'href=\"https://maps.google.com/maps/contrib/111267207102896502526\">A '\n                                                'Google User</a>'],\n                          'photo_reference': 'ATtYBwJZuKXpduBsstqkm4JxClwEpGdRbsexAXk35kOzlh1g_5w9bWVxYUsaJR8N7OVpVHCaClkzJxgRZXas5F8EVIPtpyUH56B3ITHVe9B1G970gF4LY07PeJ9VEhvSx4DUqXaXSR_i_ruQ9bK1YNCnimANAMcuid09WXhFnXiF5MIvTYhw',\n                          'width': 800}],\n              'place_id': 'ChIJD1Jj7WwDw2oRhfd_mAYWbEY',\n              'plus_code': {'compound_code': 'R576+QJ Mildura, Victoria, '\n                                             'Australia',\n                            'global_code': '4RQ4R576+QJ'},\n              'rating': 5,\n              'reference': 'ChIJD1Jj7WwDw2oRhfd_mAYWbEY',\n              'scope': 'GOOGLE',\n              'types': ['lodging', 'point_of_interest', 'establishment'],\n              'user_ratings_total': 2,\n              'vicinity': '121 Eighth St, Mildura'}],\n 'status': 'OK'}\n"
     ]
    }
   ],
   "source": [
    "pprint(hotel_names)"
   ]
  },
  {
   "cell_type": "code",
   "execution_count": 10,
   "metadata": {},
   "outputs": [
    {
     "output_type": "execute_result",
     "data": {
      "text/plain": [
       "    City Name  Latitude  Longitude  Max Temperature  Humidity  Cloudiness  \\\n",
       "0        Hilo   19.7297  -155.0900            80.60        61           1   \n",
       "1    Waingapu   -9.6567   120.2641            85.64        64           3   \n",
       "2  Maningrida  -12.0667   134.2667            89.58        63           5   \n",
       "3   Mount Isa  -20.7333   139.5000            93.20        36           0   \n",
       "4     Merauke   -8.4667   140.3333            85.57        67          26   \n",
       "\n",
       "   Wind Speed Country        Date                 Hotel Name  \n",
       "0       11.50      US  1610414274        Hilo Hawaiian Hotel  \n",
       "1        3.13      ID  1610414499                        NaN  \n",
       "2        2.93      AU  1610414297           Dhukurrdji Lodge  \n",
       "3        6.91      AU  1610414328  ibis Styles Mt Isa Verona  \n",
       "4        1.59      ID  1610414316                        NaN  "
      ],
      "text/html": "<div>\n<style scoped>\n    .dataframe tbody tr th:only-of-type {\n        vertical-align: middle;\n    }\n\n    .dataframe tbody tr th {\n        vertical-align: top;\n    }\n\n    .dataframe thead th {\n        text-align: right;\n    }\n</style>\n<table border=\"1\" class=\"dataframe\">\n  <thead>\n    <tr style=\"text-align: right;\">\n      <th></th>\n      <th>City Name</th>\n      <th>Latitude</th>\n      <th>Longitude</th>\n      <th>Max Temperature</th>\n      <th>Humidity</th>\n      <th>Cloudiness</th>\n      <th>Wind Speed</th>\n      <th>Country</th>\n      <th>Date</th>\n      <th>Hotel Name</th>\n    </tr>\n  </thead>\n  <tbody>\n    <tr>\n      <th>0</th>\n      <td>Hilo</td>\n      <td>19.7297</td>\n      <td>-155.0900</td>\n      <td>80.60</td>\n      <td>61</td>\n      <td>1</td>\n      <td>11.50</td>\n      <td>US</td>\n      <td>1610414274</td>\n      <td>Hilo Hawaiian Hotel</td>\n    </tr>\n    <tr>\n      <th>1</th>\n      <td>Waingapu</td>\n      <td>-9.6567</td>\n      <td>120.2641</td>\n      <td>85.64</td>\n      <td>64</td>\n      <td>3</td>\n      <td>3.13</td>\n      <td>ID</td>\n      <td>1610414499</td>\n      <td>NaN</td>\n    </tr>\n    <tr>\n      <th>2</th>\n      <td>Maningrida</td>\n      <td>-12.0667</td>\n      <td>134.2667</td>\n      <td>89.58</td>\n      <td>63</td>\n      <td>5</td>\n      <td>2.93</td>\n      <td>AU</td>\n      <td>1610414297</td>\n      <td>Dhukurrdji Lodge</td>\n    </tr>\n    <tr>\n      <th>3</th>\n      <td>Mount Isa</td>\n      <td>-20.7333</td>\n      <td>139.5000</td>\n      <td>93.20</td>\n      <td>36</td>\n      <td>0</td>\n      <td>6.91</td>\n      <td>AU</td>\n      <td>1610414328</td>\n      <td>ibis Styles Mt Isa Verona</td>\n    </tr>\n    <tr>\n      <th>4</th>\n      <td>Merauke</td>\n      <td>-8.4667</td>\n      <td>140.3333</td>\n      <td>85.57</td>\n      <td>67</td>\n      <td>26</td>\n      <td>1.59</td>\n      <td>ID</td>\n      <td>1610414316</td>\n      <td>NaN</td>\n    </tr>\n  </tbody>\n</table>\n</div>"
     },
     "metadata": {},
     "execution_count": 10
    }
   ],
   "source": [
    "# Save Data to csv file\n",
    "hotel_df.to_csv(\"../output_data/Perfect_weather_hotels.csv\", index= False, header= True)\n",
    "\n",
    "# Read CSV \n",
    "Perfect_weather_hotels= pd.read_csv(\"../output_data/Perfect_weather_hotels.csv\")\n",
    "\n",
    "Perfect_weather_hotels.head()"
   ]
  },
  {
   "cell_type": "code",
   "execution_count": 11,
   "metadata": {},
   "outputs": [
    {
     "output_type": "execute_result",
     "data": {
      "text/plain": [
       "              City  Latitude  Longitude  Max Temperature  Humidity  \\\n",
       "0             Hilo   19.7297  -155.0900            80.60        61   \n",
       "1         Waingapu   -9.6567   120.2641            85.64        64   \n",
       "2       Maningrida  -12.0667   134.2667            89.58        63   \n",
       "3        Mount Isa  -20.7333   139.5000            93.20        36   \n",
       "4          Merauke   -8.4667   140.3333            85.57        67   \n",
       "5   Port Macquarie  -31.4333   152.9167            86.00        41   \n",
       "6         Karratha  -20.7377   116.8463            95.25        41   \n",
       "7          Lafiagi    8.8667     5.4167            76.35        23   \n",
       "8        Murchison  -41.8000   172.3333            79.79        29   \n",
       "9             Bima   -8.4667   118.7167            87.67        67   \n",
       "10         Warmbad  -28.4500    18.7333            78.48        35   \n",
       "11   Alice Springs  -23.7000   133.8833            93.20        21   \n",
       "12      Deniliquin  -35.5333   144.9667            84.99        40   \n",
       "13          Vanimo   -2.6741   141.3028            86.45        65   \n",
       "14          Yulara  -25.2406   130.9889            96.80        14   \n",
       "15      Phan Thiet   10.9333   108.1000            75.74        59   \n",
       "16    Port Hedland  -20.3167   118.5667            93.20        62   \n",
       "17   Makakilo City   21.3469  -158.0858            82.40        61   \n",
       "18         Mildura  -34.2000   142.1500            80.01        38   \n",
       "\n",
       "    Cloudiness  Wind Speed Country        Date  \\\n",
       "0            1       11.50      US  1610414274   \n",
       "1            3        3.13      ID  1610414499   \n",
       "2            5        2.93      AU  1610414297   \n",
       "3            0        6.91      AU  1610414328   \n",
       "4           26        1.59      ID  1610414316   \n",
       "5            0        1.99      AU  1610414176   \n",
       "6            0       14.38      AU  1610414289   \n",
       "7            0        0.83      NG  1610414833   \n",
       "8            0        3.09      NZ  1610414850   \n",
       "9            2        0.78      ID  1610414303   \n",
       "10           4       10.87     NaN  1610414891   \n",
       "11           0       13.80      AU  1610414943   \n",
       "12           0        7.67      AU  1610414951   \n",
       "13          30        4.27      PG  1610414967   \n",
       "14           0       10.36      AU  1610414402   \n",
       "15          11        7.70      VN  1610415002   \n",
       "16           0       11.50      AU  1610415074   \n",
       "17           1        9.22      US  1610415083   \n",
       "18           0        8.05      AU  1610415091   \n",
       "\n",
       "                                  Hotel Name  \n",
       "0                        Hilo Hawaiian Hotel  \n",
       "1                                        NaN  \n",
       "2                           Dhukurrdji Lodge  \n",
       "3                  ibis Styles Mt Isa Verona  \n",
       "4                                        NaN  \n",
       "5         Ana Mandara Luxury Bed & Breakfast  \n",
       "6                                        NaN  \n",
       "7                             One to Z Hotel  \n",
       "8                            Murchison Lodge  \n",
       "9                               Hotel Marina  \n",
       "10                                       NaN  \n",
       "11  DoubleTree by Hilton Hotel Alice Springs  \n",
       "12                        Cottages on Edward  \n",
       "13                        Sandaun Surf Hotel  \n",
       "14                       Sails in the Desert  \n",
       "15                  Sea Links Beach Hotel 5*  \n",
       "16                                       NaN  \n",
       "17            Marriott's Ko Olina Beach Club  \n",
       "18               Quality Hotel Mildura Grand  "
      ],
      "text/html": "<div>\n<style scoped>\n    .dataframe tbody tr th:only-of-type {\n        vertical-align: middle;\n    }\n\n    .dataframe tbody tr th {\n        vertical-align: top;\n    }\n\n    .dataframe thead th {\n        text-align: right;\n    }\n</style>\n<table border=\"1\" class=\"dataframe\">\n  <thead>\n    <tr style=\"text-align: right;\">\n      <th></th>\n      <th>City</th>\n      <th>Latitude</th>\n      <th>Longitude</th>\n      <th>Max Temperature</th>\n      <th>Humidity</th>\n      <th>Cloudiness</th>\n      <th>Wind Speed</th>\n      <th>Country</th>\n      <th>Date</th>\n      <th>Hotel Name</th>\n    </tr>\n  </thead>\n  <tbody>\n    <tr>\n      <th>0</th>\n      <td>Hilo</td>\n      <td>19.7297</td>\n      <td>-155.0900</td>\n      <td>80.60</td>\n      <td>61</td>\n      <td>1</td>\n      <td>11.50</td>\n      <td>US</td>\n      <td>1610414274</td>\n      <td>Hilo Hawaiian Hotel</td>\n    </tr>\n    <tr>\n      <th>1</th>\n      <td>Waingapu</td>\n      <td>-9.6567</td>\n      <td>120.2641</td>\n      <td>85.64</td>\n      <td>64</td>\n      <td>3</td>\n      <td>3.13</td>\n      <td>ID</td>\n      <td>1610414499</td>\n      <td>NaN</td>\n    </tr>\n    <tr>\n      <th>2</th>\n      <td>Maningrida</td>\n      <td>-12.0667</td>\n      <td>134.2667</td>\n      <td>89.58</td>\n      <td>63</td>\n      <td>5</td>\n      <td>2.93</td>\n      <td>AU</td>\n      <td>1610414297</td>\n      <td>Dhukurrdji Lodge</td>\n    </tr>\n    <tr>\n      <th>3</th>\n      <td>Mount Isa</td>\n      <td>-20.7333</td>\n      <td>139.5000</td>\n      <td>93.20</td>\n      <td>36</td>\n      <td>0</td>\n      <td>6.91</td>\n      <td>AU</td>\n      <td>1610414328</td>\n      <td>ibis Styles Mt Isa Verona</td>\n    </tr>\n    <tr>\n      <th>4</th>\n      <td>Merauke</td>\n      <td>-8.4667</td>\n      <td>140.3333</td>\n      <td>85.57</td>\n      <td>67</td>\n      <td>26</td>\n      <td>1.59</td>\n      <td>ID</td>\n      <td>1610414316</td>\n      <td>NaN</td>\n    </tr>\n    <tr>\n      <th>5</th>\n      <td>Port Macquarie</td>\n      <td>-31.4333</td>\n      <td>152.9167</td>\n      <td>86.00</td>\n      <td>41</td>\n      <td>0</td>\n      <td>1.99</td>\n      <td>AU</td>\n      <td>1610414176</td>\n      <td>Ana Mandara Luxury Bed &amp; Breakfast</td>\n    </tr>\n    <tr>\n      <th>6</th>\n      <td>Karratha</td>\n      <td>-20.7377</td>\n      <td>116.8463</td>\n      <td>95.25</td>\n      <td>41</td>\n      <td>0</td>\n      <td>14.38</td>\n      <td>AU</td>\n      <td>1610414289</td>\n      <td>NaN</td>\n    </tr>\n    <tr>\n      <th>7</th>\n      <td>Lafiagi</td>\n      <td>8.8667</td>\n      <td>5.4167</td>\n      <td>76.35</td>\n      <td>23</td>\n      <td>0</td>\n      <td>0.83</td>\n      <td>NG</td>\n      <td>1610414833</td>\n      <td>One to Z Hotel</td>\n    </tr>\n    <tr>\n      <th>8</th>\n      <td>Murchison</td>\n      <td>-41.8000</td>\n      <td>172.3333</td>\n      <td>79.79</td>\n      <td>29</td>\n      <td>0</td>\n      <td>3.09</td>\n      <td>NZ</td>\n      <td>1610414850</td>\n      <td>Murchison Lodge</td>\n    </tr>\n    <tr>\n      <th>9</th>\n      <td>Bima</td>\n      <td>-8.4667</td>\n      <td>118.7167</td>\n      <td>87.67</td>\n      <td>67</td>\n      <td>2</td>\n      <td>0.78</td>\n      <td>ID</td>\n      <td>1610414303</td>\n      <td>Hotel Marina</td>\n    </tr>\n    <tr>\n      <th>10</th>\n      <td>Warmbad</td>\n      <td>-28.4500</td>\n      <td>18.7333</td>\n      <td>78.48</td>\n      <td>35</td>\n      <td>4</td>\n      <td>10.87</td>\n      <td>NaN</td>\n      <td>1610414891</td>\n      <td>NaN</td>\n    </tr>\n    <tr>\n      <th>11</th>\n      <td>Alice Springs</td>\n      <td>-23.7000</td>\n      <td>133.8833</td>\n      <td>93.20</td>\n      <td>21</td>\n      <td>0</td>\n      <td>13.80</td>\n      <td>AU</td>\n      <td>1610414943</td>\n      <td>DoubleTree by Hilton Hotel Alice Springs</td>\n    </tr>\n    <tr>\n      <th>12</th>\n      <td>Deniliquin</td>\n      <td>-35.5333</td>\n      <td>144.9667</td>\n      <td>84.99</td>\n      <td>40</td>\n      <td>0</td>\n      <td>7.67</td>\n      <td>AU</td>\n      <td>1610414951</td>\n      <td>Cottages on Edward</td>\n    </tr>\n    <tr>\n      <th>13</th>\n      <td>Vanimo</td>\n      <td>-2.6741</td>\n      <td>141.3028</td>\n      <td>86.45</td>\n      <td>65</td>\n      <td>30</td>\n      <td>4.27</td>\n      <td>PG</td>\n      <td>1610414967</td>\n      <td>Sandaun Surf Hotel</td>\n    </tr>\n    <tr>\n      <th>14</th>\n      <td>Yulara</td>\n      <td>-25.2406</td>\n      <td>130.9889</td>\n      <td>96.80</td>\n      <td>14</td>\n      <td>0</td>\n      <td>10.36</td>\n      <td>AU</td>\n      <td>1610414402</td>\n      <td>Sails in the Desert</td>\n    </tr>\n    <tr>\n      <th>15</th>\n      <td>Phan Thiet</td>\n      <td>10.9333</td>\n      <td>108.1000</td>\n      <td>75.74</td>\n      <td>59</td>\n      <td>11</td>\n      <td>7.70</td>\n      <td>VN</td>\n      <td>1610415002</td>\n      <td>Sea Links Beach Hotel 5*</td>\n    </tr>\n    <tr>\n      <th>16</th>\n      <td>Port Hedland</td>\n      <td>-20.3167</td>\n      <td>118.5667</td>\n      <td>93.20</td>\n      <td>62</td>\n      <td>0</td>\n      <td>11.50</td>\n      <td>AU</td>\n      <td>1610415074</td>\n      <td>NaN</td>\n    </tr>\n    <tr>\n      <th>17</th>\n      <td>Makakilo City</td>\n      <td>21.3469</td>\n      <td>-158.0858</td>\n      <td>82.40</td>\n      <td>61</td>\n      <td>1</td>\n      <td>9.22</td>\n      <td>US</td>\n      <td>1610415083</td>\n      <td>Marriott's Ko Olina Beach Club</td>\n    </tr>\n    <tr>\n      <th>18</th>\n      <td>Mildura</td>\n      <td>-34.2000</td>\n      <td>142.1500</td>\n      <td>80.01</td>\n      <td>38</td>\n      <td>0</td>\n      <td>8.05</td>\n      <td>AU</td>\n      <td>1610415091</td>\n      <td>Quality Hotel Mildura Grand</td>\n    </tr>\n  </tbody>\n</table>\n</div>"
     },
     "metadata": {},
     "execution_count": 11
    }
   ],
   "source": [
    "Renamed_df = Perfect_weather_hotels.rename(columns= {\"City Name\" : \"City\"})\n",
    "\n",
    "Renamed_df"
   ]
  },
  {
   "source": [
    "Plot markers on top of the heatmap."
   ],
   "cell_type": "markdown",
   "metadata": {}
  },
  {
   "cell_type": "code",
   "execution_count": 12,
   "metadata": {},
   "outputs": [],
   "source": [
    "# NOTE: Do not change any of the code in this cell\n",
    "\n",
    "# Using the template add the hotel marks to the heatmap\n",
    "info_box_template = \"\"\"\n",
    "<dl>\n",
    "<dt>Name</dt><dd>{Hotel Name}</dd>\n",
    "<dt>City</dt><dd>{City}</dd>\n",
    "<dt>Country</dt><dd>{Country}</dd>\n",
    "</dl>\n",
    "\"\"\"\n",
    "# Store the DataFrame Row\n",
    "# NOTE: be sure to update with your DataFrame name\n",
    "hotel_info = [info_box_template.format(**row) for index, row in Renamed_df.iterrows()]\n",
    "locations = Renamed_df[[\"Latitude\", \"Longitude\"]]\n"
   ]
  },
  {
   "cell_type": "code",
   "execution_count": 13,
   "metadata": {},
   "outputs": [
    {
     "output_type": "display_data",
     "data": {
      "text/plain": "Figure(layout=FigureLayout(height='420px'))",
      "application/vnd.jupyter.widget-view+json": {
       "version_major": 2,
       "version_minor": 0,
       "model_id": "cc36dbf0b8bd4aedac4f2b071bf03133"
      }
     },
     "metadata": {}
    }
   ],
   "source": [
    "# Add marker layer \n",
    "\n",
    "marker_layer = gmaps.marker_layer(locations, info_box_content= hotel_info)\n",
    "fig= gmaps.figure()\n",
    "\n",
    "#Zoom in before adding layers\n",
    "fig = gmaps.figure(center=(0, 0), zoom_level=2)\n",
    "\n",
    "#Add marker layer\n",
    "fig.add_layer(marker_layer)\n",
    "\n",
    "#Add heat layer\n",
    "fig.add_layer(heat_layer)\n",
    "\n",
    "# fig = gmaps.figure(center=(0, 0), zoom_level=2)\n",
    "\n",
    "# Display figure\n",
    "fig"
   ]
  },
  {
   "cell_type": "code",
   "execution_count": null,
   "metadata": {},
   "outputs": [],
   "source": []
  }
 ],
 "metadata": {
  "kernelspec": {
   "name": "python3",
   "display_name": "Python 3.8.3 64-bit (conda)",
   "metadata": {
    "interpreter": {
     "hash": "72a673a4f0fb58cf6a5457002161524e130d8c961ac4e17e823e9d139e34e60c"
    }
   }
  },
  "language_info": {
   "codemirror_mode": {
    "name": "ipython",
    "version": 3
   },
   "file_extension": ".py",
   "mimetype": "text/x-python",
   "name": "python",
   "nbconvert_exporter": "python",
   "pygments_lexer": "ipython3",
   "version": "3.8.3-final"
  },
  "latex_envs": {
   "LaTeX_envs_menu_present": true,
   "autoclose": false,
   "autocomplete": true,
   "bibliofile": "biblio.bib",
   "cite_by": "apalike",
   "current_citInitial": 1,
   "eqLabelWithNumbers": true,
   "eqNumInitial": 1,
   "hotkeys": {
    "equation": "Ctrl-E",
    "itemize": "Ctrl-I"
   },
   "labels_anchors": false,
   "latex_user_defs": false,
   "report_style_numbering": false,
   "user_envs_cfg": false
  }
 },
 "nbformat": 4,
 "nbformat_minor": 4
}